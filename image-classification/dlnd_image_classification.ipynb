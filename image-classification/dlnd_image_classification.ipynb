{
 "cells": [
  {
   "cell_type": "markdown",
   "metadata": {
    "collapsed": true,
    "deletable": true,
    "editable": true
   },
   "source": [
    "# Image Classification\n",
    "In this project, you'll classify images from the [CIFAR-10 dataset](https://www.cs.toronto.edu/~kriz/cifar.html).  The dataset consists of airplanes, dogs, cats, and other objects. You'll preprocess the images, then train a convolutional neural network on all the samples. The images need to be normalized and the labels need to be one-hot encoded.  You'll get to apply what you learned and build a convolutional, max pooling, dropout, and fully connected layers.  At the end, you'll get to see your neural network's predictions on the sample images.\n",
    "## Get the Data\n",
    "Run the following cell to download the [CIFAR-10 dataset for python](https://www.cs.toronto.edu/~kriz/cifar-10-python.tar.gz)."
   ]
  },
  {
   "cell_type": "code",
   "execution_count": 13,
   "metadata": {
    "collapsed": false,
    "deletable": true,
    "editable": true
   },
   "outputs": [
    {
     "name": "stdout",
     "output_type": "stream",
     "text": [
      "All files found!\n"
     ]
    }
   ],
   "source": [
    "\"\"\"\n",
    "DON'T MODIFY ANYTHING IN THIS CELL THAT IS BELOW THIS LINE\n",
    "\"\"\"\n",
    "from urllib.request import urlretrieve\n",
    "from os.path import isfile, isdir\n",
    "from tqdm import tqdm\n",
    "import problem_unittests as tests\n",
    "import tarfile\n",
    "\n",
    "cifar10_dataset_folder_path = 'cifar-10-batches-py'\n",
    "\n",
    "# Use Floyd's cifar-10 dataset if present\n",
    "floyd_cifar10_location = '/input/cifar-10/python.tar.gz'\n",
    "if isfile(floyd_cifar10_location):\n",
    "    tar_gz_path = floyd_cifar10_location\n",
    "else:\n",
    "    tar_gz_path = 'cifar-10-python.tar.gz'\n",
    "\n",
    "class DLProgress(tqdm):\n",
    "    last_block = 0\n",
    "\n",
    "    def hook(self, block_num=1, block_size=1, total_size=None):\n",
    "        self.total = total_size\n",
    "        self.update((block_num - self.last_block) * block_size)\n",
    "        self.last_block = block_num\n",
    "\n",
    "if not isfile(tar_gz_path):\n",
    "    with DLProgress(unit='B', unit_scale=True, miniters=1, desc='CIFAR-10 Dataset') as pbar:\n",
    "        urlretrieve(\n",
    "            'https://www.cs.toronto.edu/~kriz/cifar-10-python.tar.gz',\n",
    "            tar_gz_path,\n",
    "            pbar.hook)\n",
    "\n",
    "if not isdir(cifar10_dataset_folder_path):\n",
    "    with tarfile.open(tar_gz_path) as tar:\n",
    "        tar.extractall()\n",
    "        tar.close()\n",
    "\n",
    "\n",
    "tests.test_folder_path(cifar10_dataset_folder_path)"
   ]
  },
  {
   "cell_type": "markdown",
   "metadata": {
    "deletable": true,
    "editable": true
   },
   "source": [
    "## Explore the Data\n",
    "The dataset is broken into batches to prevent your machine from running out of memory.  The CIFAR-10 dataset consists of 5 batches, named `data_batch_1`, `data_batch_2`, etc.. Each batch contains the labels and images that are one of the following:\n",
    "* airplane\n",
    "* automobile\n",
    "* bird\n",
    "* cat\n",
    "* deer\n",
    "* dog\n",
    "* frog\n",
    "* horse\n",
    "* ship\n",
    "* truck\n",
    "\n",
    "Understanding a dataset is part of making predictions on the data.  Play around with the code cell below by changing the `batch_id` and `sample_id`. The `batch_id` is the id for a batch (1-5). The `sample_id` is the id for a image and label pair in the batch.\n",
    "\n",
    "Ask yourself \"What are all possible labels?\", \"What is the range of values for the image data?\", \"Are the labels in order or random?\".  Answers to questions like these will help you preprocess the data and end up with better predictions."
   ]
  },
  {
   "cell_type": "code",
   "execution_count": 14,
   "metadata": {
    "collapsed": false,
    "deletable": true,
    "editable": true
   },
   "outputs": [
    {
     "name": "stdout",
     "output_type": "stream",
     "text": [
      "\n",
      "Stats of batch 3:\n",
      "Samples: 10000\n",
      "Label Counts: {0: 994, 1: 1042, 2: 965, 3: 997, 4: 990, 5: 1029, 6: 978, 7: 1015, 8: 961, 9: 1029}\n",
      "First 20 Labels: [8, 5, 0, 6, 9, 2, 8, 3, 6, 2, 7, 4, 6, 9, 0, 0, 7, 3, 7, 2]\n",
      "\n",
      "Example of Image 100:\n",
      "Image - Min Value: 4 Max Value: 255\n",
      "Image - Shape: (32, 32, 3)\n",
      "Label - Label Id: 8 Name: ship\n"
     ]
    },
    {
     "data": {
      "image/png": "[encoded data removed]",
      "text/plain": [
       "<matplotlib.figure.Figure at 0x1e2a6ebaf28>"
      ]
     },
     "metadata": {
      "image/png": {
       "height": 250,
       "width": 253
      }
     },
     "output_type": "display_data"
    }
   ],
   "source": [
    "%matplotlib inline\n",
    "%config InlineBackend.figure_format = 'retina'\n",
    "\n",
    "import helper\n",
    "import numpy as np\n",
    "\n",
    "# Explore the dataset\n",
    "batch_id = 3\n",
    "sample_id = 100\n",
    "helper.display_stats(cifar10_dataset_folder_path, batch_id, sample_id)"
   ]
  },
  {
   "cell_type": "markdown",
   "metadata": {
    "deletable": true,
    "editable": true
   },
   "source": [
    "## Implement Preprocess Functions\n",
    "### Normalize\n",
    "In the cell below, implement the `normalize` function to take in image data, `x`, and return it as a normalized Numpy array. The values should be in the range of 0 to 1, inclusive.  The return object should be the same shape as `x`."
   ]
  },
  {
   "cell_type": "code",
   "execution_count": 15,
   "metadata": {
    "collapsed": false,
    "deletable": true,
    "editable": true
   },
   "outputs": [
    {
     "name": "stdout",
     "output_type": "stream",
     "text": [
      "Tests Passed\n"
     ]
    }
   ],
   "source": [
    "def normalize(imgs):\n",
    "    \"\"\"\n",
    "    Normalize a list of sample image data in the range of 0 to 1\n",
    "    : x: List of image data.  The image shape is (32, 32, 3)\n",
    "    : return: Numpy array of normalize data\n",
    "    \"\"\"\n",
    "    output=[]\n",
    "    for img in imgs:\n",
    "        output.append(np.array(\\\n",
    "                        [np.array([\\\n",
    "                                np.array([channel/255 for channel in pix ]) \\\n",
    "                         for pix in row ]) \\\n",
    "                 for row in img ])) \n",
    "    return(np.array(output))\n",
    "\n",
    "\"\"\"\n",
    "DON'T MODIFY ANYTHING IN THIS CELL THAT IS BELOW THIS LINE\n",
    "\"\"\"\n",
    "tests.test_normalize(normalize)"
   ]
  },
  {
   "cell_type": "markdown",
   "metadata": {
    "deletable": true,
    "editable": true
   },
   "source": [
    "### One-hot encode\n",
    "Just like the previous code cell, you'll be implementing a function for preprocessing.  This time, you'll implement the `one_hot_encode` function. The input, `x`, are a list of labels.  Implement the function to return the list of labels as One-Hot encoded Numpy array.  The possible values for labels are 0 to 9. The one-hot encoding function should return the same encoding for each value between each call to `one_hot_encode`.  Make sure to save the map of encodings outside the function.\n",
    "\n",
    "Hint: Don't reinvent the wheel."
   ]
  },
  {
   "cell_type": "code",
   "execution_count": 17,
   "metadata": {
    "collapsed": false,
    "deletable": true,
    "editable": true
   },
   "outputs": [
    {
     "name": "stdout",
     "output_type": "stream",
     "text": [
      "Tests Passed\n"
     ]
    }
   ],
   "source": [
    "\n",
    "def one_hot_encode(labels):\n",
    "    \"\"\"\n",
    "    One hot encode a list of sample labels. Return a one-hot encoded vector for each label.\n",
    "    : x: List of sample Labels\n",
    "    : return: Numpy array of one-hot encoded labels\n",
    "    \"\"\"\n",
    "    \n",
    "    output=[]\n",
    "    for label in labels:\n",
    "        one_hot_vector = np.zeros(10)\n",
    "        one_hot_vector[label]=1\n",
    "        output.append(one_hot_vector)\n",
    "    return np.array(output)\n",
    "\n",
    "\n",
    "\"\"\"\n",
    "DON'T MODIFY ANYTHING IN THIS CELL THAT IS BELOW THIS LINE\n",
    "\"\"\"\n",
    "tests.test_one_hot_encode(one_hot_encode)"
   ]
  },
  {
   "cell_type": "markdown",
   "metadata": {
    "deletable": true,
    "editable": true
   },
   "source": [
    "### Randomize Data\n",
    "As you saw from exploring the data above, the order of the samples are randomized.  It doesn't hurt to randomize it again, but you don't need to for this dataset."
   ]
  },
  {
   "cell_type": "markdown",
   "metadata": {
    "deletable": true,
    "editable": true
   },
   "source": [
    "## Preprocess all the data and save it\n",
    "Running the code cell below will preprocess all the CIFAR-10 data and save it to file. The code below also uses 10% of the training data for validation."
   ]
  },
  {
   "cell_type": "code",
   "execution_count": 18,
   "metadata": {
    "collapsed": false,
    "deletable": true,
    "editable": true
   },
   "outputs": [],
   "source": [
    "\"\"\"\n",
    "DON'T MODIFY ANYTHING IN THIS CELL\n",
    "\"\"\"\n",
    "# Preprocess Training, Validation, and Testing Data\n",
    "helper.preprocess_and_save_data(cifar10_dataset_folder_path, normalize, one_hot_encode)"
   ]
  },
  {
   "cell_type": "markdown",
   "metadata": {
    "deletable": true,
    "editable": true
   },
   "source": [
    "# Check Point\n",
    "This is your first checkpoint.  If you ever decide to come back to this notebook or have to restart the notebook, you can start from here.  The preprocessed data has been saved to disk."
   ]
  },
  {
   "cell_type": "code",
   "execution_count": 2,
   "metadata": {
    "collapsed": false,
    "deletable": true,
    "editable": true
   },
   "outputs": [],
   "source": [
    "\"\"\"\n",
    "DON'T MODIFY ANYTHING IN THIS CELL\n",
    "\"\"\"\n",
    "import pickle\n",
    "import problem_unittests as tests\n",
    "import helper\n",
    "\n",
    "# Load the Preprocessed Validation data\n",
    "valid_features, valid_labels = pickle.load(open('preprocess_validation.p', mode='rb'))"
   ]
  },
  {
   "cell_type": "markdown",
   "metadata": {
    "deletable": true,
    "editable": true
   },
   "source": [
    "## Build the network\n",
    "For the neural network, you'll build each layer into a function.  Most of the code you've seen has been outside of functions. To test your code more thoroughly, we require that you put each layer in a function.  This allows us to give you better feedback and test for simple mistakes using our unittests before you submit your project.\n",
    "\n",
    ">**Note:** If you're finding it hard to dedicate enough time for this course each week, we've provided a small shortcut to this part of the project. In the next couple of problems, you'll have the option to use classes from the [TensorFlow Layers](https://www.tensorflow.org/api_docs/python/tf/layers) or [TensorFlow Layers (contrib)](https://www.tensorflow.org/api_guides/python/contrib.layers) packages to build each layer, except the layers you build in the \"Convolutional and Max Pooling Layer\" section.  TF Layers is similar to Keras's and TFLearn's abstraction to layers, so it's easy to pickup.\n",
    "\n",
    ">However, if you would like to get the most out of this course, try to solve all the problems _without_ using anything from the TF Layers packages. You **can** still use classes from other packages that happen to have the same name as ones you find in TF Layers! For example, instead of using the TF Layers version of the `conv2d` class, [tf.layers.conv2d](https://www.tensorflow.org/api_docs/python/tf/layers/conv2d), you would want to use the TF Neural Network version of `conv2d`, [tf.nn.conv2d](https://www.tensorflow.org/api_docs/python/tf/nn/conv2d). \n",
    "\n",
    "Let's begin!\n",
    "\n",
    "### Input\n",
    "The neural network needs to read the image data, one-hot encoded labels, and dropout keep probability. Implement the following functions\n",
    "* Implement `neural_net_image_input`\n",
    " * Return a [TF Placeholder](https://www.tensorflow.org/api_docs/python/tf/placeholder)\n",
    " * Set the shape using `image_shape` with batch size set to `None`.\n",
    " * Name the TensorFlow placeholder \"x\" using the TensorFlow `name` parameter in the [TF Placeholder](https://www.tensorflow.org/api_docs/python/tf/placeholder).\n",
    "* Implement `neural_net_label_input`\n",
    " * Return a [TF Placeholder](https://www.tensorflow.org/api_docs/python/tf/placeholder)\n",
    " * Set the shape using `n_classes` with batch size set to `None`.\n",
    " * Name the TensorFlow placeholder \"y\" using the TensorFlow `name` parameter in the [TF Placeholder](https://www.tensorflow.org/api_docs/python/tf/placeholder).\n",
    "* Implement `neural_net_keep_prob_input`\n",
    " * Return a [TF Placeholder](https://www.tensorflow.org/api_docs/python/tf/placeholder) for dropout keep probability.\n",
    " * Name the TensorFlow placeholder \"keep_prob\" using the TensorFlow `name` parameter in the [TF Placeholder](https://www.tensorflow.org/api_docs/python/tf/placeholder).\n",
    "\n",
    "These names will be used at the end of the project to load your saved model.\n",
    "\n",
    "Note: `None` for shapes in TensorFlow allow for a dynamic size."
   ]
  },
  {
   "cell_type": "code",
   "execution_count": 3,
   "metadata": {
    "collapsed": false,
    "deletable": true,
    "editable": true
   },
   "outputs": [
    {
     "name": "stdout",
     "output_type": "stream",
     "text": [
      "Image Input Tests Passed.\n",
      "Label Input Tests Passed.\n",
      "Keep Prob Tests Passed.\n"
     ]
    }
   ],
   "source": [
    "import tensorflow as tf\n",
    "\n",
    "def neural_net_image_input(image_shape):\n",
    "    \"\"\"\n",
    "    Return a Tensor for a batch of image input\n",
    "    : image_shape: Shape of the images\n",
    "    : return: Tensor for image input.\n",
    "    \"\"\"\n",
    "    return tf.placeholder(tf.float32,[None,image_shape[0],image_shape[1],image_shape[2]],name=\"x\")\n",
    "    \n",
    "\n",
    "\n",
    "def neural_net_label_input(n_classes):\n",
    "    \"\"\"\n",
    "    Return a Tensor for a batch of label input\n",
    "    : n_classes: Number of classes\n",
    "    : return: Tensor for label input.\n",
    "    \"\"\"\n",
    "    return tf.placeholder(tf.float32,[None,n_classes],name=\"y\")\n",
    "\n",
    "\n",
    "def neural_net_keep_prob_input():\n",
    "    \"\"\"\n",
    "    Return a Tensor for keep probability\n",
    "    : return: Tensor for keep probability.\n",
    "    \"\"\"\n",
    "    return tf.placeholder(tf.float32,name=\"keep_prob\")\n",
    "\n",
    "\n",
    "\"\"\"\n",
    "DON'T MODIFY ANYTHING IN THIS CELL THAT IS BELOW THIS LINE\n",
    "\"\"\"\n",
    "tf.reset_default_graph()\n",
    "tests.test_nn_image_inputs(neural_net_image_input)\n",
    "tests.test_nn_label_inputs(neural_net_label_input)\n",
    "tests.test_nn_keep_prob_inputs(neural_net_keep_prob_input)"
   ]
  },
  {
   "cell_type": "markdown",
   "metadata": {
    "deletable": true,
    "editable": true
   },
   "source": [
    "### Convolution and Max Pooling Layer\n",
    "Convolution layers have a lot of success with images. For this code cell, you should implement the function `conv2d_maxpool` to apply convolution then max pooling:\n",
    "* Create the weight and bias using `conv_ksize`, `conv_num_outputs` and the shape of `x_tensor`.\n",
    "* Apply a convolution to `x_tensor` using weight and `conv_strides`.\n",
    " * We recommend you use same padding, but you're welcome to use any padding.\n",
    "* Add bias\n",
    "* Add a nonlinear activation to the convolution.\n",
    "* Apply Max Pooling using `pool_ksize` and `pool_strides`.\n",
    " * We recommend you use same padding, but you're welcome to use any padding.\n",
    "\n",
    "**Note:** You **can't** use [TensorFlow Layers](https://www.tensorflow.org/api_docs/python/tf/layers) or [TensorFlow Layers (contrib)](https://www.tensorflow.org/api_guides/python/contrib.layers) for **this** layer, but you can still use TensorFlow's [Neural Network](https://www.tensorflow.org/api_docs/python/tf/nn) package. You may still use the shortcut option for all the **other** layers."
   ]
  },
  {
   "cell_type": "code",
   "execution_count": 4,
   "metadata": {
    "collapsed": false,
    "deletable": true,
    "editable": true
   },
   "outputs": [
    {
     "name": "stdout",
     "output_type": "stream",
     "text": [
      "Tests Passed\n"
     ]
    }
   ],
   "source": [
    "def conv2d_maxpool(x_tensor, conv_num_outputs, conv_ksize, conv_strides, pool_ksize, pool_strides):\n",
    "    \"\"\"\n",
    "    Apply convolution then max pooling to x_tensor\n",
    "    :param x_tensor: TensorFlow Tensor\n",
    "    :param conv_num_outputs: Number of outputs for the convolutional layer\n",
    "    :param conv_ksize: kernal size 2-D Tuple for the convolutional layer\n",
    "    :param conv_strides: Stride 2-D Tuple for convolution\n",
    "    :param pool_ksize: kernal size 2-D Tuple for pool\n",
    "    :param pool_strides: Stride 2-D Tuple for pool\n",
    "    : return: A tensor that represents convolution and max pooling of x_tensor\n",
    "    \"\"\"\n",
    "    weight = tf.Variable(tf.truncated_normal([conv_ksize[0],conv_ksize[1],x_tensor.shape[3].value,conv_num_outputs],stddev=0.1))    \n",
    "    bias= tf.Variable(tf.zeros(conv_num_outputs))\n",
    "    \n",
    "    conv_layer = tf.nn.conv2d(x_tensor,weight,strides=[1,conv_strides[0],conv_strides[1],1],padding='SAME')\n",
    "    conv_layer = tf.nn.bias_add(conv_layer,bias)\n",
    "    conv_layer = tf.nn.relu(conv_layer)\n",
    "    conv_layer = tf.nn.max_pool(conv_layer,ksize=[1,pool_ksize[0],pool_ksize[1],1],strides=[1,pool_strides[0],pool_strides[1],1],padding='SAME')\n",
    "\n",
    "    return(conv_layer)\n",
    "\n",
    "\"\"\"\n",
    "DON'T MODIFY ANYTHING IN THIS CELL THAT IS BELOW THIS LINE\n",
    "\"\"\"\n",
    "tests.test_con_pool(conv2d_maxpool)"
   ]
  },
  {
   "cell_type": "markdown",
   "metadata": {
    "deletable": true,
    "editable": true
   },
   "source": [
    "### Flatten Layer\n",
    "Implement the `flatten` function to change the dimension of `x_tensor` from a 4-D tensor to a 2-D tensor.  The output should be the shape (*Batch Size*, *Flattened Image Size*). Shortcut option: you can use classes from the [TensorFlow Layers](https://www.tensorflow.org/api_docs/python/tf/layers) or [TensorFlow Layers (contrib)](https://www.tensorflow.org/api_guides/python/contrib.layers) packages for this layer. For more of a challenge, only use other TensorFlow packages."
   ]
  },
  {
   "cell_type": "code",
   "execution_count": 5,
   "metadata": {
    "collapsed": false,
    "deletable": true,
    "editable": true
   },
   "outputs": [
    {
     "name": "stdout",
     "output_type": "stream",
     "text": [
      "Tests Passed\n"
     ]
    }
   ],
   "source": [
    "def flatten(x_tensor):\n",
    "    \"\"\"\n",
    "    Flatten x_tensor to (Batch Size, Flattened Image Size)\n",
    "    : x_tensor: A tensor of size (Batch Size, ...), where ... are the image dimensions.\n",
    "    : return: A tensor of size (Batch Size, Flattened Image Size).\n",
    "    \"\"\"\n",
    "    return tf.reshape(x_tensor,[-1,x_tensor.shape[1].value*x_tensor.shape[2].value*x_tensor.shape[3].value])\n",
    "\n",
    "\n",
    "\"\"\"\n",
    "DON'T MODIFY ANYTHING IN THIS CELL THAT IS BELOW THIS LINE\n",
    "\"\"\"\n",
    "tests.test_flatten(flatten)"
   ]
  },
  {
   "cell_type": "markdown",
   "metadata": {
    "deletable": true,
    "editable": true
   },
   "source": [
    "### Fully-Connected Layer\n",
    "Implement the `fully_conn` function to apply a fully connected layer to `x_tensor` with the shape (*Batch Size*, *num_outputs*). Shortcut option: you can use classes from the [TensorFlow Layers](https://www.tensorflow.org/api_docs/python/tf/layers) or [TensorFlow Layers (contrib)](https://www.tensorflow.org/api_guides/python/contrib.layers) packages for this layer. For more of a challenge, only use other TensorFlow packages."
   ]
  },
  {
   "cell_type": "code",
   "execution_count": 6,
   "metadata": {
    "collapsed": false,
    "deletable": true,
    "editable": true
   },
   "outputs": [
    {
     "name": "stdout",
     "output_type": "stream",
     "text": [
      "Tests Passed\n"
     ]
    }
   ],
   "source": [
    "def fully_conn(x_tensor, num_outputs):\n",
    "    \"\"\"\n",
    "    Apply a fully connected layer to x_tensor using weight and bias\n",
    "    : x_tensor: A 2-D tensor where the first dimension is batch size.\n",
    "    : num_outputs: The number of output that the new tensor should be.\n",
    "    : return: A 2-D tensor where the second dimension is num_outputs.\n",
    "    \"\"\"\n",
    "    weight = tf.Variable(tf.truncated_normal([x_tensor.shape[1].value,num_outputs],stddev=0.1))\n",
    "    bias = tf.Variable(tf.zeros(num_outputs))\n",
    "    output = tf.add(tf.matmul(x_tensor,weight),bias)\n",
    "    output = tf.nn.relu(output)\n",
    "    return(output)\n",
    "\n",
    "\n",
    "\"\"\"\n",
    "DON'T MODIFY ANYTHING IN THIS CELL THAT IS BELOW THIS LINE\n",
    "\"\"\"\n",
    "tests.test_fully_conn(fully_conn)"
   ]
  },
  {
   "cell_type": "markdown",
   "metadata": {
    "deletable": true,
    "editable": true
   },
   "source": [
    "### Output Layer\n",
    "Implement the `output` function to apply a fully connected layer to `x_tensor` with the shape (*Batch Size*, *num_outputs*). Shortcut option: you can use classes from the [TensorFlow Layers](https://www.tensorflow.org/api_docs/python/tf/layers) or [TensorFlow Layers (contrib)](https://www.tensorflow.org/api_guides/python/contrib.layers) packages for this layer. For more of a challenge, only use other TensorFlow packages.\n",
    "\n",
    "**Note:** Activation, softmax, or cross entropy should **not** be applied to this."
   ]
  },
  {
   "cell_type": "code",
   "execution_count": 7,
   "metadata": {
    "collapsed": false,
    "deletable": true,
    "editable": true
   },
   "outputs": [
    {
     "name": "stdout",
     "output_type": "stream",
     "text": [
      "Tests Passed\n"
     ]
    }
   ],
   "source": [
    "def output(x_tensor, num_outputs):\n",
    "    \"\"\"\n",
    "    Apply a output layer to x_tensor using weight and bias\n",
    "    : x_tensor: A 2-D tensor where the first dimension is batch size.\n",
    "    : num_outputs: The number of output that the new tensor should be.\n",
    "    : return: A 2-D tensor where the second dimension is num_outputs.\n",
    "    \"\"\"\n",
    "    weight = tf.Variable(tf.truncated_normal([x_tensor.shape[1].value,num_outputs],stddev=0.1))\n",
    "    bias = tf.Variable(tf.zeros(num_outputs))\n",
    "    return(tf.add(tf.matmul(x_tensor,weight),bias))    \n",
    "\n",
    "\n",
    "\"\"\"\n",
    "DON'T MODIFY ANYTHING IN THIS CELL THAT IS BELOW THIS LINE\n",
    "\"\"\"\n",
    "tests.test_output(output)"
   ]
  },
  {
   "cell_type": "markdown",
   "metadata": {
    "deletable": true,
    "editable": true
   },
   "source": [
    "### Create Convolutional Model\n",
    "Implement the function `conv_net` to create a convolutional neural network model. The function takes in a batch of images, `x`, and outputs logits.  Use the layers you created above to create this model:\n",
    "\n",
    "* Apply 1, 2, or 3 Convolution and Max Pool layers\n",
    "* Apply a Flatten Layer\n",
    "* Apply 1, 2, or 3 Fully Connected Layers\n",
    "* Apply an Output Layer\n",
    "* Return the output\n",
    "* Apply [TensorFlow's Dropout](https://www.tensorflow.org/api_docs/python/tf/nn/dropout) to one or more layers in the model using `keep_prob`. "
   ]
  },
  {
   "cell_type": "code",
   "execution_count": 8,
   "metadata": {
    "collapsed": false,
    "deletable": true,
    "editable": true
   },
   "outputs": [
    {
     "name": "stdout",
     "output_type": "stream",
     "text": [
      "Neural Network Built!\n"
     ]
    }
   ],
   "source": [
    "def conv_net(x, keep_prob):\n",
    "    \"\"\"\n",
    "    Create a convolutional neural network model\n",
    "    : x: Placeholder tensor that holds image data.\n",
    "    : keep_prob: Placeholder tensor that hold dropout keep probability.\n",
    "    : return: Tensor that represents logits\n",
    "    \"\"\"\n",
    "    conv_layer = conv2d_maxpool(x,32,[4,4],[1,1],[4,4],[2,2])\n",
    "    conv_layer = conv2d_maxpool(conv_layer,128,[3,3],[1,1],[2,2],[2,2])\n",
    "    conv_layer = conv2d_maxpool(conv_layer,256,[3,3],[1,1],[2,2],[2,2])\n",
    "    \n",
    "    flat_layer = flatten(conv_layer)\n",
    "    \n",
    "    full_layer = fully_conn(flat_layer,512)\n",
    "    \n",
    "    dropout_layer = tf.nn.dropout(full_layer,keep_prob)\n",
    "    \n",
    "    output_layer = output(dropout_layer,10)\n",
    "    \n",
    "    return output_layer\n",
    "\n",
    "\n",
    "\"\"\"\n",
    "DON'T MODIFY ANYTHING IN THIS CELL THAT IS BELOW THIS LINE\n",
    "\"\"\"\n",
    "\n",
    "##############################\n",
    "## Build the Neural Network ##\n",
    "##############################\n",
    "\n",
    "# Remove previous weights, bias, inputs, etc..\n",
    "tf.reset_default_graph()\n",
    "\n",
    "# Inputs\n",
    "x = neural_net_image_input((32, 32, 3))\n",
    "y = neural_net_label_input(10)\n",
    "keep_prob = neural_net_keep_prob_input()\n",
    "\n",
    "# Model\n",
    "logits = conv_net(x, keep_prob)\n",
    "\n",
    "# Name logits Tensor, so that is can be loaded from disk after training\n",
    "logits = tf.identity(logits, name='logits')\n",
    "\n",
    "# Loss and Optimizer\n",
    "cost = tf.reduce_mean(tf.nn.softmax_cross_entropy_with_logits(logits=logits, labels=y))\n",
    "optimizer = tf.train.AdamOptimizer().minimize(cost)\n",
    "\n",
    "# Accuracy\n",
    "correct_pred = tf.equal(tf.argmax(logits, 1), tf.argmax(y, 1))\n",
    "accuracy = tf.reduce_mean(tf.cast(correct_pred, tf.float32), name='accuracy')\n",
    "\n",
    "tests.test_conv_net(conv_net)"
   ]
  },
  {
   "cell_type": "markdown",
   "metadata": {
    "deletable": true,
    "editable": true
   },
   "source": [
    "## Train the Neural Network\n",
    "### Single Optimization\n",
    "Implement the function `train_neural_network` to do a single optimization.  The optimization should use `optimizer` to optimize in `session` with a `feed_dict` of the following:\n",
    "* `x` for image input\n",
    "* `y` for labels\n",
    "* `keep_prob` for keep probability for dropout\n",
    "\n",
    "This function will be called for each batch, so `tf.global_variables_initializer()` has already been called.\n",
    "\n",
    "Note: Nothing needs to be returned. This function is only optimizing the neural network."
   ]
  },
  {
   "cell_type": "code",
   "execution_count": 9,
   "metadata": {
    "collapsed": false,
    "deletable": true,
    "editable": true
   },
   "outputs": [
    {
     "name": "stdout",
     "output_type": "stream",
     "text": [
      "Tests Passed\n"
     ]
    }
   ],
   "source": [
    "def train_neural_network(session, optimizer, keep_probability, feature_batch, label_batch):\n",
    "    \"\"\"\n",
    "    Optimize the session on a batch of images and labels\n",
    "    : session: Current TensorFlow session\n",
    "    : optimizer: TensorFlow optimizer function\n",
    "    : keep_probability: keep probability\n",
    "    : feature_batch: Batch of Numpy image data\n",
    "    : label_batch: Batch of Numpy label data\n",
    "    \"\"\"\n",
    "    # TODO: Implement Function\n",
    "    session.run(optimizer,feed_dict={x:feature_batch,y:label_batch,keep_prob:keep_probability})\n",
    "    \n",
    "\n",
    "\"\"\"\n",
    "DON'T MODIFY ANYTHING IN THIS CELL THAT IS BELOW THIS LINE\n",
    "\"\"\"\n",
    "tests.test_train_nn(train_neural_network)"
   ]
  },
  {
   "cell_type": "markdown",
   "metadata": {
    "deletable": true,
    "editable": true
   },
   "source": [
    "### Show Stats\n",
    "Implement the function `print_stats` to print loss and validation accuracy.  Use the global variables `valid_features` and `valid_labels` to calculate validation accuracy.  Use a keep probability of `1.0` to calculate the loss and validation accuracy."
   ]
  },
  {
   "cell_type": "code",
   "execution_count": 10,
   "metadata": {
    "collapsed": false,
    "deletable": true,
    "editable": true
   },
   "outputs": [],
   "source": [
    "def print_stats(session, feature_batch, label_batch, cost, accuracy):\n",
    "    \"\"\"\n",
    "    Print information about loss and validation accuracy\n",
    "    : session: Current TensorFlow session\n",
    "    : feature_batch: Batch of Numpy image data\n",
    "    : label_batch: Batch of Numpy label data\n",
    "    : cost: TensorFlow cost function\n",
    "    : accuracy: TensorFlow accuracy function\n",
    "    \"\"\"\n",
    "    # TODO: Implement Function\n",
    "    #print(\"Loss: \",session.run(cost,feed_dict={features:feature_batch,labels:label_batch}))\n",
    "    \n",
    "    print(\"Loss:\",session.run(cost,feed_dict={x:feature_batch,y:label_batch,keep_prob:1}),\n",
    "          \"Training accuracy: \",session.run(accuracy,feed_dict={x:feature_batch,y:label_batch,keep_prob:1}),\\\n",
    "          \"Validation accuracy: \",session.run(accuracy,feed_dict={x:valid_features,y:valid_labels,keep_prob:1}))"
   ]
  },
  {
   "cell_type": "markdown",
   "metadata": {
    "deletable": true,
    "editable": true
   },
   "source": [
    "### Hyperparameters\n",
    "Tune the following parameters:\n",
    "* Set `epochs` to the number of iterations until the network stops learning or start overfitting\n",
    "* Set `batch_size` to the highest number that your machine has memory for.  Most people set them to common sizes of memory:\n",
    " * 64\n",
    " * 128\n",
    " * 256\n",
    " * ...\n",
    "* Set `keep_probability` to the probability of keeping a node using dropout"
   ]
  },
  {
   "cell_type": "code",
   "execution_count": 50,
   "metadata": {
    "collapsed": true,
    "deletable": true,
    "editable": true
   },
   "outputs": [],
   "source": [
    "# TODO: Tune Parameters\n",
    "epochs = 50\n",
    "batch_size = 128\n",
    "keep_probability = 0.5"
   ]
  },
  {
   "cell_type": "markdown",
   "metadata": {
    "deletable": true,
    "editable": true
   },
   "source": [
    "### Train on a Single CIFAR-10 Batch\n",
    "Instead of training the neural network on all the CIFAR-10 batches of data, let's use a single batch. This should save time while you iterate on the model to get a better accuracy.  Once the final validation accuracy is 50% or greater, run the model on all the data in the next section."
   ]
  },
  {
   "cell_type": "code",
   "execution_count": 52,
   "metadata": {
    "collapsed": false,
    "deletable": true,
    "editable": true
   },
   "outputs": [
    {
     "name": "stdout",
     "output_type": "stream",
     "text": [
      "Checking the Training on a Single Batch...\n",
      "Epoch  1, CIFAR-10 Batch 1:  Loss: 1.80164 Training accuracy:  0.4 Validation accuracy:  0.4226\n",
      "Epoch  2, CIFAR-10 Batch 1:  Loss: 1.53697 Training accuracy:  0.475 Validation accuracy:  0.4576\n",
      "Epoch  3, CIFAR-10 Batch 1:  Loss: 1.26298 Training accuracy:  0.6 Validation accuracy:  0.491\n",
      "Epoch  4, CIFAR-10 Batch 1:  Loss: 1.07586 Training accuracy:  0.7 Validation accuracy:  0.5592\n",
      "Epoch  5, CIFAR-10 Batch 1:  Loss: 0.893909 Training accuracy:  0.7 Validation accuracy:  0.5572\n",
      "Epoch  6, CIFAR-10 Batch 1:  Loss: 0.717658 Training accuracy:  0.8 Validation accuracy:  0.5848\n",
      "Epoch  7, CIFAR-10 Batch 1:  Loss: 0.64074 Training accuracy:  0.85 Validation accuracy:  0.5958\n",
      "Epoch  8, CIFAR-10 Batch 1:  Loss: 0.522825 Training accuracy:  0.875 Validation accuracy:  0.6036\n",
      "Epoch  9, CIFAR-10 Batch 1:  Loss: 0.395253 Training accuracy:  0.9 Validation accuracy:  0.614\n",
      "Epoch 10, CIFAR-10 Batch 1:  Loss: 0.386526 Training accuracy:  0.95 Validation accuracy:  0.601\n",
      "Epoch 11, CIFAR-10 Batch 1:  Loss: 0.298043 Training accuracy:  0.925 Validation accuracy:  0.6226\n",
      "Epoch 12, CIFAR-10 Batch 1:  Loss: 0.210649 Training accuracy:  0.975 Validation accuracy:  0.6336\n",
      "Epoch 13, CIFAR-10 Batch 1:  Loss: 0.166552 Training accuracy:  0.95 Validation accuracy:  0.6222\n",
      "Epoch 14, CIFAR-10 Batch 1:  Loss: 0.116291 Training accuracy:  1.0 Validation accuracy:  0.6272\n",
      "Epoch 15, CIFAR-10 Batch 1:  Loss: 0.083773 Training accuracy:  0.975 Validation accuracy:  0.6388\n",
      "Epoch 16, CIFAR-10 Batch 1:  Loss: 0.0578601 Training accuracy:  1.0 Validation accuracy:  0.6288\n",
      "Epoch 17, CIFAR-10 Batch 1:  Loss: 0.0596067 Training accuracy:  1.0 Validation accuracy:  0.617\n",
      "Epoch 18, CIFAR-10 Batch 1:  Loss: 0.0287936 Training accuracy:  1.0 Validation accuracy:  0.6126\n",
      "Epoch 19, CIFAR-10 Batch 1:  Loss: 0.041589 Training accuracy:  1.0 Validation accuracy:  0.6218\n",
      "Epoch 20, CIFAR-10 Batch 1:  Loss: 0.0130363 Training accuracy:  1.0 Validation accuracy:  0.642\n",
      "Epoch 21, CIFAR-10 Batch 1:  Loss: 0.0149908 Training accuracy:  1.0 Validation accuracy:  0.6418\n",
      "Epoch 22, CIFAR-10 Batch 1:  Loss: 0.0181421 Training accuracy:  1.0 Validation accuracy:  0.6294\n",
      "Epoch 23, CIFAR-10 Batch 1:  Loss: 0.0103021 Training accuracy:  1.0 Validation accuracy:  0.6422\n",
      "Epoch 24, CIFAR-10 Batch 1:  Loss: 0.0212283 Training accuracy:  1.0 Validation accuracy:  0.6358\n",
      "Epoch 25, CIFAR-10 Batch 1:  Loss: 0.00707011 Training accuracy:  1.0 Validation accuracy:  0.646\n",
      "Epoch 26, CIFAR-10 Batch 1:  Loss: 0.0104517 Training accuracy:  1.0 Validation accuracy:  0.6368\n",
      "Epoch 27, CIFAR-10 Batch 1:  Loss: 0.0164329 Training accuracy:  1.0 Validation accuracy:  0.6454\n",
      "Epoch 28, CIFAR-10 Batch 1:  Loss: 0.00429326 Training accuracy:  1.0 Validation accuracy:  0.637\n",
      "Epoch 29, CIFAR-10 Batch 1:  Loss: 0.00329915 Training accuracy:  1.0 Validation accuracy:  0.6514\n",
      "Epoch 30, CIFAR-10 Batch 1:  Loss: 0.00312393 Training accuracy:  1.0 Validation accuracy:  0.651\n",
      "Epoch 31, CIFAR-10 Batch 1:  Loss: 0.00491041 Training accuracy:  1.0 Validation accuracy:  0.6396\n",
      "Epoch 32, CIFAR-10 Batch 1:  Loss: 0.00749318 Training accuracy:  1.0 Validation accuracy:  0.6462\n",
      "Epoch 33, CIFAR-10 Batch 1:  Loss: 0.00275601 Training accuracy:  1.0 Validation accuracy:  0.645\n",
      "Epoch 34, CIFAR-10 Batch 1:  Loss: 0.00159618 Training accuracy:  1.0 Validation accuracy:  0.647\n",
      "Epoch 35, CIFAR-10 Batch 1:  Loss: 0.0048371 Training accuracy:  1.0 Validation accuracy:  0.6374\n",
      "Epoch 36, CIFAR-10 Batch 1:  Loss: 0.000943266 Training accuracy:  1.0 Validation accuracy:  0.6358\n",
      "Epoch 37, CIFAR-10 Batch 1:  Loss: 0.00380612 Training accuracy:  1.0 Validation accuracy:  0.6412\n",
      "Epoch 38, CIFAR-10 Batch 1:  Loss: 0.000805482 Training accuracy:  1.0 Validation accuracy:  0.6544\n",
      "Epoch 39, CIFAR-10 Batch 1:  Loss: 0.00185383 Training accuracy:  1.0 Validation accuracy:  0.65\n",
      "Epoch 40, CIFAR-10 Batch 1:  Loss: 0.000391381 Training accuracy:  1.0 Validation accuracy:  0.6568\n",
      "Epoch 41, CIFAR-10 Batch 1:  Loss: 0.00500636 Training accuracy:  1.0 Validation accuracy:  0.6308\n",
      "Epoch 42, CIFAR-10 Batch 1:  Loss: 0.00167163 Training accuracy:  1.0 Validation accuracy:  0.6492\n",
      "Epoch 43, CIFAR-10 Batch 1:  Loss: 0.000348584 Training accuracy:  1.0 Validation accuracy:  0.6406\n",
      "Epoch 44, CIFAR-10 Batch 1:  Loss: 0.00051839 Training accuracy:  1.0 Validation accuracy:  0.6476\n",
      "Epoch 45, CIFAR-10 Batch 1:  Loss: 0.000361207 Training accuracy:  1.0 Validation accuracy:  0.653\n",
      "Epoch 46, CIFAR-10 Batch 1:  Loss: 0.000857936 Training accuracy:  1.0 Validation accuracy:  0.6548\n",
      "Epoch 47, CIFAR-10 Batch 1:  Loss: 0.00104719 Training accuracy:  1.0 Validation accuracy:  0.6414\n",
      "Epoch 48, CIFAR-10 Batch 1:  Loss: 0.00508991 Training accuracy:  1.0 Validation accuracy:  0.659\n",
      "Epoch 49, CIFAR-10 Batch 1:  Loss: 0.000354804 Training accuracy:  1.0 Validation accuracy:  0.6488\n",
      "Epoch 50, CIFAR-10 Batch 1:  Loss: 0.00564756 Training accuracy:  1.0 Validation accuracy:  0.6444\n",
      "--- 138.4928433895111 seconds ---\n"
     ]
    }
   ],
   "source": [
    "\"\"\"\n",
    "DON'T MODIFY ANYTHING IN THIS CELL\n",
    "\"\"\"\n",
    "import time\n",
    "start_time = time.time()\n",
    "\n",
    "print('Checking the Training on a Single Batch...')\n",
    "with tf.Session() as sess:\n",
    "    # Initializing the variables\n",
    "    sess.run(tf.global_variables_initializer())\n",
    "    \n",
    "    # Training cycle\n",
    "    for epoch in range(epochs):\n",
    "        batch_i = 1\n",
    "        for batch_features, batch_labels in helper.load_preprocess_training_batch(batch_i, batch_size):\n",
    "            train_neural_network(sess, optimizer, keep_probability, batch_features, batch_labels)\n",
    "        print('Epoch {:>2}, CIFAR-10 Batch {}:  '.format(epoch + 1, batch_i), end='')\n",
    "        print_stats(sess, batch_features, batch_labels, cost, accuracy)\n",
    "        \n",
    "print(\"--- %s seconds ---\" % (time.time() - start_time))"
   ]
  },
  {
   "cell_type": "markdown",
   "metadata": {
    "deletable": true,
    "editable": true
   },
   "source": [
    "### Fully Train the Model\n",
    "Now that you got a good accuracy with a single CIFAR-10 batch, try it with all five batches."
   ]
  },
  {
   "cell_type": "code",
   "execution_count": 53,
   "metadata": {
    "collapsed": false,
    "deletable": true,
    "editable": true
   },
   "outputs": [
    {
     "name": "stdout",
     "output_type": "stream",
     "text": [
      "Training...\n",
      "Epoch  1, CIFAR-10 Batch 1:  Loss: 1.80957 Training accuracy:  0.45 Validation accuracy:  0.4022\n",
      "Epoch  1, CIFAR-10 Batch 2:  Loss: 1.42394 Training accuracy:  0.55 Validation accuracy:  0.4618\n",
      "Epoch  1, CIFAR-10 Batch 3:  Loss: 1.19841 Training accuracy:  0.675 Validation accuracy:  0.496\n",
      "Epoch  1, CIFAR-10 Batch 4:  Loss: 1.33796 Training accuracy:  0.5 Validation accuracy:  0.518\n",
      "Epoch  1, CIFAR-10 Batch 5:  Loss: 1.25758 Training accuracy:  0.525 Validation accuracy:  0.56\n",
      "Epoch  2, CIFAR-10 Batch 1:  Loss: 1.23324 Training accuracy:  0.6 Validation accuracy:  0.5698\n",
      "Epoch  2, CIFAR-10 Batch 2:  Loss: 0.956541 Training accuracy:  0.625 Validation accuracy:  0.5734\n",
      "Epoch  2, CIFAR-10 Batch 3:  Loss: 0.783728 Training accuracy:  0.7 Validation accuracy:  0.609\n",
      "Epoch  2, CIFAR-10 Batch 4:  Loss: 0.971374 Training accuracy:  0.7 Validation accuracy:  0.6156\n",
      "Epoch  2, CIFAR-10 Batch 5:  Loss: 0.856605 Training accuracy:  0.75 Validation accuracy:  0.6438\n",
      "Epoch  3, CIFAR-10 Batch 1:  Loss: 1.06561 Training accuracy:  0.75 Validation accuracy:  0.66\n",
      "Epoch  3, CIFAR-10 Batch 2:  Loss: 0.737122 Training accuracy:  0.725 Validation accuracy:  0.6186\n",
      "Epoch  3, CIFAR-10 Batch 3:  Loss: 0.56861 Training accuracy:  0.9 Validation accuracy:  0.6528\n",
      "Epoch  3, CIFAR-10 Batch 4:  Loss: 0.64356 Training accuracy:  0.7 Validation accuracy:  0.6664\n",
      "Epoch  3, CIFAR-10 Batch 5:  Loss: 0.674046 Training accuracy:  0.775 Validation accuracy:  0.675\n",
      "Epoch  4, CIFAR-10 Batch 1:  Loss: 0.77381 Training accuracy:  0.7 Validation accuracy:  0.6772\n",
      "Epoch  4, CIFAR-10 Batch 2:  Loss: 0.528028 Training accuracy:  0.825 Validation accuracy:  0.6726\n",
      "Epoch  4, CIFAR-10 Batch 3:  Loss: 0.325149 Training accuracy:  0.9 Validation accuracy:  0.6958\n",
      "Epoch  4, CIFAR-10 Batch 4:  Loss: 0.485617 Training accuracy:  0.875 Validation accuracy:  0.6946\n",
      "Epoch  4, CIFAR-10 Batch 5:  Loss: 0.478905 Training accuracy:  0.85 Validation accuracy:  0.7\n",
      "Epoch  5, CIFAR-10 Batch 1:  Loss: 0.600289 Training accuracy:  0.75 Validation accuracy:  0.6804\n",
      "Epoch  5, CIFAR-10 Batch 2:  Loss: 0.383777 Training accuracy:  0.925 Validation accuracy:  0.7068\n",
      "Epoch  5, CIFAR-10 Batch 3:  Loss: 0.264865 Training accuracy:  0.925 Validation accuracy:  0.7026\n",
      "Epoch  5, CIFAR-10 Batch 4:  Loss: 0.326227 Training accuracy:  0.925 Validation accuracy:  0.699\n",
      "Epoch  5, CIFAR-10 Batch 5:  Loss: 0.295909 Training accuracy:  0.95 Validation accuracy:  0.7182\n",
      "Epoch  6, CIFAR-10 Batch 1:  Loss: 0.451051 Training accuracy:  0.875 Validation accuracy:  0.695\n",
      "Epoch  6, CIFAR-10 Batch 2:  Loss: 0.306178 Training accuracy:  0.9 Validation accuracy:  0.702\n",
      "Epoch  6, CIFAR-10 Batch 3:  Loss: 0.172229 Training accuracy:  1.0 Validation accuracy:  0.7066\n",
      "Epoch  6, CIFAR-10 Batch 4:  Loss: 0.253752 Training accuracy:  0.95 Validation accuracy:  0.7158\n",
      "Epoch  6, CIFAR-10 Batch 5:  Loss: 0.207378 Training accuracy:  0.975 Validation accuracy:  0.7234\n",
      "Epoch  7, CIFAR-10 Batch 1:  Loss: 0.282778 Training accuracy:  0.925 Validation accuracy:  0.7338\n",
      "Epoch  7, CIFAR-10 Batch 2:  Loss: 0.289591 Training accuracy:  0.95 Validation accuracy:  0.6968\n",
      "Epoch  7, CIFAR-10 Batch 3:  Loss: 0.117808 Training accuracy:  1.0 Validation accuracy:  0.7144\n",
      "Epoch  7, CIFAR-10 Batch 4:  Loss: 0.170907 Training accuracy:  0.975 Validation accuracy:  0.7184\n",
      "Epoch  7, CIFAR-10 Batch 5:  Loss: 0.136846 Training accuracy:  1.0 Validation accuracy:  0.73\n",
      "Epoch  8, CIFAR-10 Batch 1:  Loss: 0.193306 Training accuracy:  0.925 Validation accuracy:  0.734\n",
      "Epoch  8, CIFAR-10 Batch 2:  Loss: 0.15667 Training accuracy:  1.0 Validation accuracy:  0.7224\n",
      "Epoch  8, CIFAR-10 Batch 3:  Loss: 0.0871828 Training accuracy:  1.0 Validation accuracy:  0.7272\n",
      "Epoch  8, CIFAR-10 Batch 4:  Loss: 0.136567 Training accuracy:  0.975 Validation accuracy:  0.7336\n",
      "Epoch  8, CIFAR-10 Batch 5:  Loss: 0.146243 Training accuracy:  1.0 Validation accuracy:  0.722\n",
      "Epoch  9, CIFAR-10 Batch 1:  Loss: 0.144599 Training accuracy:  0.975 Validation accuracy:  0.7282\n",
      "Epoch  9, CIFAR-10 Batch 2:  Loss: 0.142274 Training accuracy:  1.0 Validation accuracy:  0.7152\n",
      "Epoch  9, CIFAR-10 Batch 3:  Loss: 0.108538 Training accuracy:  0.975 Validation accuracy:  0.7408\n",
      "Epoch  9, CIFAR-10 Batch 4:  Loss: 0.143447 Training accuracy:  0.975 Validation accuracy:  0.7344\n",
      "Epoch  9, CIFAR-10 Batch 5:  Loss: 0.102964 Training accuracy:  1.0 Validation accuracy:  0.7398\n",
      "Epoch 10, CIFAR-10 Batch 1:  Loss: 0.0859948 Training accuracy:  1.0 Validation accuracy:  0.7526\n",
      "Epoch 10, CIFAR-10 Batch 2:  Loss: 0.0719117 Training accuracy:  1.0 Validation accuracy:  0.7362\n",
      "Epoch 10, CIFAR-10 Batch 3:  Loss: 0.0656273 Training accuracy:  1.0 Validation accuracy:  0.7572\n",
      "Epoch 10, CIFAR-10 Batch 4:  Loss: 0.0856393 Training accuracy:  1.0 Validation accuracy:  0.7434\n",
      "Epoch 10, CIFAR-10 Batch 5:  Loss: 0.0698899 Training accuracy:  1.0 Validation accuracy:  0.7438\n",
      "Epoch 11, CIFAR-10 Batch 1:  Loss: 0.0680035 Training accuracy:  0.975 Validation accuracy:  0.7564\n",
      "Epoch 11, CIFAR-10 Batch 2:  Loss: 0.0589923 Training accuracy:  1.0 Validation accuracy:  0.7262\n",
      "Epoch 11, CIFAR-10 Batch 3:  Loss: 0.0369325 Training accuracy:  1.0 Validation accuracy:  0.7508\n",
      "Epoch 11, CIFAR-10 Batch 4:  Loss: 0.0916323 Training accuracy:  1.0 Validation accuracy:  0.7398\n",
      "Epoch 11, CIFAR-10 Batch 5:  Loss: 0.0408961 Training accuracy:  1.0 Validation accuracy:  0.7494\n",
      "Epoch 12, CIFAR-10 Batch 1:  Loss: 0.0659885 Training accuracy:  0.975 Validation accuracy:  0.757\n",
      "Epoch 12, CIFAR-10 Batch 2:  Loss: 0.029291 Training accuracy:  1.0 Validation accuracy:  0.7314\n",
      "Epoch 12, CIFAR-10 Batch 3:  Loss: 0.0358951 Training accuracy:  1.0 Validation accuracy:  0.7482\n",
      "Epoch 12, CIFAR-10 Batch 4:  Loss: 0.0487878 Training accuracy:  1.0 Validation accuracy:  0.7488\n",
      "Epoch 12, CIFAR-10 Batch 5:  Loss: 0.0345682 Training accuracy:  1.0 Validation accuracy:  0.7474\n",
      "Epoch 13, CIFAR-10 Batch 1:  Loss: 0.0375615 Training accuracy:  1.0 Validation accuracy:  0.7626\n",
      "Epoch 13, CIFAR-10 Batch 2:  Loss: 0.0208992 Training accuracy:  1.0 Validation accuracy:  0.721\n",
      "Epoch 13, CIFAR-10 Batch 3:  Loss: 0.0212844 Training accuracy:  1.0 Validation accuracy:  0.753\n",
      "Epoch 13, CIFAR-10 Batch 4:  Loss: 0.0401475 Training accuracy:  1.0 Validation accuracy:  0.7542\n",
      "Epoch 13, CIFAR-10 Batch 5:  Loss: 0.0191472 Training accuracy:  1.0 Validation accuracy:  0.7574\n",
      "Epoch 14, CIFAR-10 Batch 1:  Loss: 0.0410612 Training accuracy:  0.975 Validation accuracy:  0.7486\n",
      "Epoch 14, CIFAR-10 Batch 2:  Loss: 0.0203099 Training accuracy:  1.0 Validation accuracy:  0.7064\n",
      "Epoch 14, CIFAR-10 Batch 3:  Loss: 0.0210618 Training accuracy:  1.0 Validation accuracy:  0.7432\n",
      "Epoch 14, CIFAR-10 Batch 4:  Loss: 0.0424517 Training accuracy:  1.0 Validation accuracy:  0.7372\n",
      "Epoch 14, CIFAR-10 Batch 5:  Loss: 0.0160235 Training accuracy:  1.0 Validation accuracy:  0.752\n",
      "Epoch 15, CIFAR-10 Batch 1:  Loss: 0.0200024 Training accuracy:  1.0 Validation accuracy:  0.7548\n",
      "Epoch 15, CIFAR-10 Batch 2:  Loss: 0.030188 Training accuracy:  1.0 Validation accuracy:  0.7334\n",
      "Epoch 15, CIFAR-10 Batch 3:  Loss: 0.0187268 Training accuracy:  1.0 Validation accuracy:  0.7482\n",
      "Epoch 15, CIFAR-10 Batch 4:  Loss: 0.0219571 Training accuracy:  1.0 Validation accuracy:  0.729\n",
      "Epoch 15, CIFAR-10 Batch 5:  Loss: 0.0158568 Training accuracy:  1.0 Validation accuracy:  0.7422\n",
      "Epoch 16, CIFAR-10 Batch 1:  Loss: 0.0167533 Training accuracy:  1.0 Validation accuracy:  0.7652\n",
      "Epoch 16, CIFAR-10 Batch 2:  Loss: 0.00616221 Training accuracy:  1.0 Validation accuracy:  0.7444\n",
      "Epoch 16, CIFAR-10 Batch 3:  Loss: 0.0101087 Training accuracy:  1.0 Validation accuracy:  0.7448\n",
      "Epoch 16, CIFAR-10 Batch 4:  Loss: 0.0183483 Training accuracy:  1.0 Validation accuracy:  0.7322\n",
      "Epoch 16, CIFAR-10 Batch 5:  Loss: 0.0120713 Training accuracy:  1.0 Validation accuracy:  0.7538\n",
      "Epoch 17, CIFAR-10 Batch 1:  Loss: 0.0137345 Training accuracy:  1.0 Validation accuracy:  0.7472\n",
      "Epoch 17, CIFAR-10 Batch 2:  Loss: 0.00384769 Training accuracy:  1.0 Validation accuracy:  0.7546\n",
      "Epoch 17, CIFAR-10 Batch 3:  Loss: 0.00494589 Training accuracy:  1.0 Validation accuracy:  0.7502\n",
      "Epoch 17, CIFAR-10 Batch 4:  Loss: 0.00812851 Training accuracy:  1.0 Validation accuracy:  0.7454\n",
      "Epoch 17, CIFAR-10 Batch 5:  Loss: 0.0141074 Training accuracy:  1.0 Validation accuracy:  0.7432\n",
      "Epoch 18, CIFAR-10 Batch 1:  Loss: 0.0088836 Training accuracy:  1.0 Validation accuracy:  0.7628\n",
      "Epoch 18, CIFAR-10 Batch 2:  Loss: 0.0134313 Training accuracy:  1.0 Validation accuracy:  0.7596\n",
      "Epoch 18, CIFAR-10 Batch 3:  Loss: 0.0105106 Training accuracy:  1.0 Validation accuracy:  0.7508\n",
      "Epoch 18, CIFAR-10 Batch 4:  Loss: 0.0094988 Training accuracy:  1.0 Validation accuracy:  0.7384\n",
      "Epoch 18, CIFAR-10 Batch 5:  Loss: 0.00580478 Training accuracy:  1.0 Validation accuracy:  0.7556\n",
      "Epoch 19, CIFAR-10 Batch 1:  Loss: 0.00929619 Training accuracy:  1.0 Validation accuracy:  0.7566\n",
      "Epoch 19, CIFAR-10 Batch 2:  Loss: 0.00804789 Training accuracy:  1.0 Validation accuracy:  0.76\n",
      "Epoch 19, CIFAR-10 Batch 3:  Loss: 0.00228217 Training accuracy:  1.0 Validation accuracy:  0.7582\n",
      "Epoch 19, CIFAR-10 Batch 4:  Loss: 0.0063793 Training accuracy:  1.0 Validation accuracy:  0.7476\n",
      "Epoch 19, CIFAR-10 Batch 5:  Loss: 0.00354313 Training accuracy:  1.0 Validation accuracy:  0.7646\n",
      "Epoch 20, CIFAR-10 Batch 1:  Loss: 0.0266151 Training accuracy:  1.0 Validation accuracy:  0.7588\n",
      "Epoch 20, CIFAR-10 Batch 2:  Loss: 0.0156415 Training accuracy:  1.0 Validation accuracy:  0.7556\n",
      "Epoch 20, CIFAR-10 Batch 3:  Loss: 0.00173802 Training accuracy:  1.0 Validation accuracy:  0.7562\n",
      "Epoch 20, CIFAR-10 Batch 4:  Loss: 0.0033485 Training accuracy:  1.0 Validation accuracy:  0.75\n",
      "Epoch 20, CIFAR-10 Batch 5:  Loss: 0.0025484 Training accuracy:  1.0 Validation accuracy:  0.7428\n",
      "Epoch 21, CIFAR-10 Batch 1:  Loss: 0.0135065 Training accuracy:  1.0 Validation accuracy:  0.7554\n",
      "Epoch 21, CIFAR-10 Batch 2:  Loss: 0.00286825 Training accuracy:  1.0 Validation accuracy:  0.7512\n",
      "Epoch 21, CIFAR-10 Batch 3:  Loss: 0.00107451 Training accuracy:  1.0 Validation accuracy:  0.7674\n",
      "Epoch 21, CIFAR-10 Batch 4:  Loss: 0.00585592 Training accuracy:  1.0 Validation accuracy:  0.7588\n",
      "Epoch 21, CIFAR-10 Batch 5:  Loss: 0.00145334 Training accuracy:  1.0 Validation accuracy:  0.7478\n",
      "Epoch 22, CIFAR-10 Batch 1:  Loss: 0.0075322 Training accuracy:  1.0 Validation accuracy:  0.7572\n",
      "Epoch 22, CIFAR-10 Batch 2:  Loss: 0.00224254 Training accuracy:  1.0 Validation accuracy:  0.7548\n",
      "Epoch 22, CIFAR-10 Batch 3:  Loss: 0.000464213 Training accuracy:  1.0 Validation accuracy:  0.758\n",
      "Epoch 22, CIFAR-10 Batch 4:  Loss: 0.00418751 Training accuracy:  1.0 Validation accuracy:  0.765\n",
      "Epoch 22, CIFAR-10 Batch 5:  Loss: 0.000605287 Training accuracy:  1.0 Validation accuracy:  0.7564\n",
      "Epoch 23, CIFAR-10 Batch 1:  Loss: 0.00102339 Training accuracy:  1.0 Validation accuracy:  0.7532\n",
      "Epoch 23, CIFAR-10 Batch 2:  Loss: 0.00906354 Training accuracy:  1.0 Validation accuracy:  0.7564\n",
      "Epoch 23, CIFAR-10 Batch 3:  Loss: 0.00251111 Training accuracy:  1.0 Validation accuracy:  0.7626\n",
      "Epoch 23, CIFAR-10 Batch 4:  Loss: 0.00155842 Training accuracy:  1.0 Validation accuracy:  0.7618\n",
      "Epoch 23, CIFAR-10 Batch 5:  Loss: 0.00121222 Training accuracy:  1.0 Validation accuracy:  0.7698\n",
      "Epoch 24, CIFAR-10 Batch 1:  Loss: 0.00417226 Training accuracy:  1.0 Validation accuracy:  0.7576\n",
      "Epoch 24, CIFAR-10 Batch 2:  Loss: 0.00852975 Training accuracy:  1.0 Validation accuracy:  0.7568\n",
      "Epoch 24, CIFAR-10 Batch 3:  Loss: 0.00246786 Training accuracy:  1.0 Validation accuracy:  0.7706\n",
      "Epoch 24, CIFAR-10 Batch 4:  Loss: 0.00148789 Training accuracy:  1.0 Validation accuracy:  0.755\n",
      "Epoch 24, CIFAR-10 Batch 5:  Loss: 0.00105517 Training accuracy:  1.0 Validation accuracy:  0.7676\n",
      "Epoch 25, CIFAR-10 Batch 1:  Loss: 0.00352282 Training accuracy:  1.0 Validation accuracy:  0.7478\n",
      "Epoch 25, CIFAR-10 Batch 2:  Loss: 0.00342071 Training accuracy:  1.0 Validation accuracy:  0.7554\n",
      "Epoch 25, CIFAR-10 Batch 3:  Loss: 0.000632936 Training accuracy:  1.0 Validation accuracy:  0.7606\n",
      "Epoch 25, CIFAR-10 Batch 4:  Loss: 0.0029226 Training accuracy:  1.0 Validation accuracy:  0.7612\n",
      "Epoch 25, CIFAR-10 Batch 5:  Loss: 0.00332565 Training accuracy:  1.0 Validation accuracy:  0.7656\n",
      "Epoch 26, CIFAR-10 Batch 1:  Loss: 0.00224658 Training accuracy:  1.0 Validation accuracy:  0.748\n",
      "Epoch 26, CIFAR-10 Batch 2:  Loss: 0.00230723 Training accuracy:  1.0 Validation accuracy:  0.7546\n",
      "Epoch 26, CIFAR-10 Batch 3:  Loss: 0.000451581 Training accuracy:  1.0 Validation accuracy:  0.762\n",
      "Epoch 26, CIFAR-10 Batch 4:  Loss: 0.00620457 Training accuracy:  1.0 Validation accuracy:  0.7574\n",
      "Epoch 26, CIFAR-10 Batch 5:  Loss: 0.000582491 Training accuracy:  1.0 Validation accuracy:  0.7652\n",
      "Epoch 27, CIFAR-10 Batch 1:  Loss: 0.00217807 Training accuracy:  1.0 Validation accuracy:  0.7526\n",
      "Epoch 27, CIFAR-10 Batch 2:  Loss: 0.00106805 Training accuracy:  1.0 Validation accuracy:  0.7658\n",
      "Epoch 27, CIFAR-10 Batch 3:  Loss: 0.0136257 Training accuracy:  1.0 Validation accuracy:  0.7654\n",
      "Epoch 27, CIFAR-10 Batch 4:  Loss: 0.00210474 Training accuracy:  1.0 Validation accuracy:  0.765\n",
      "Epoch 27, CIFAR-10 Batch 5:  Loss: 0.000326344 Training accuracy:  1.0 Validation accuracy:  0.7694\n",
      "Epoch 28, CIFAR-10 Batch 1:  Loss: 0.00181935 Training accuracy:  1.0 Validation accuracy:  0.7508\n",
      "Epoch 28, CIFAR-10 Batch 2:  Loss: 0.0032636 Training accuracy:  1.0 Validation accuracy:  0.765\n",
      "Epoch 28, CIFAR-10 Batch 3:  Loss: 0.000489792 Training accuracy:  1.0 Validation accuracy:  0.7702\n",
      "Epoch 28, CIFAR-10 Batch 4:  Loss: 0.0143514 Training accuracy:  1.0 Validation accuracy:  0.7638\n",
      "Epoch 28, CIFAR-10 Batch 5:  Loss: 0.000738721 Training accuracy:  1.0 Validation accuracy:  0.7636\n",
      "Epoch 29, CIFAR-10 Batch 1:  Loss: 0.00411942 Training accuracy:  1.0 Validation accuracy:  0.7516\n",
      "Epoch 29, CIFAR-10 Batch 2:  Loss: 0.0156771 Training accuracy:  1.0 Validation accuracy:  0.7662\n",
      "Epoch 29, CIFAR-10 Batch 3:  Loss: 0.000395467 Training accuracy:  1.0 Validation accuracy:  0.77\n",
      "Epoch 29, CIFAR-10 Batch 4:  Loss: 0.00213663 Training accuracy:  1.0 Validation accuracy:  0.7526\n",
      "Epoch 29, CIFAR-10 Batch 5:  Loss: 0.000939176 Training accuracy:  1.0 Validation accuracy:  0.7466\n",
      "Epoch 30, CIFAR-10 Batch 1:  Loss: 0.0023514 Training accuracy:  1.0 Validation accuracy:  0.7546\n",
      "Epoch 30, CIFAR-10 Batch 2:  Loss: 0.000421515 Training accuracy:  1.0 Validation accuracy:  0.767\n",
      "Epoch 30, CIFAR-10 Batch 3:  Loss: 0.000176196 Training accuracy:  1.0 Validation accuracy:  0.7598\n",
      "Epoch 30, CIFAR-10 Batch 4:  Loss: 0.0334125 Training accuracy:  0.975 Validation accuracy:  0.7752\n",
      "Epoch 30, CIFAR-10 Batch 5:  Loss: 0.000532076 Training accuracy:  1.0 Validation accuracy:  0.7598\n",
      "Epoch 31, CIFAR-10 Batch 1:  Loss: 0.00189416 Training accuracy:  1.0 Validation accuracy:  0.7582\n",
      "Epoch 31, CIFAR-10 Batch 2:  Loss: 0.00644962 Training accuracy:  1.0 Validation accuracy:  0.7606\n",
      "Epoch 31, CIFAR-10 Batch 3:  Loss: 0.00185563 Training accuracy:  1.0 Validation accuracy:  0.7694\n",
      "Epoch 31, CIFAR-10 Batch 4:  Loss: 0.00336481 Training accuracy:  1.0 Validation accuracy:  0.7686\n",
      "Epoch 31, CIFAR-10 Batch 5:  Loss: 0.000222511 Training accuracy:  1.0 Validation accuracy:  0.7598\n",
      "Epoch 32, CIFAR-10 Batch 1:  Loss: 0.000488759 Training accuracy:  1.0 Validation accuracy:  0.7468\n",
      "Epoch 32, CIFAR-10 Batch 2:  Loss: 0.00202323 Training accuracy:  1.0 Validation accuracy:  0.7612\n",
      "Epoch 32, CIFAR-10 Batch 3:  Loss: 0.000359035 Training accuracy:  1.0 Validation accuracy:  0.7704\n",
      "Epoch 32, CIFAR-10 Batch 4:  Loss: 0.000582343 Training accuracy:  1.0 Validation accuracy:  0.7688\n",
      "Epoch 32, CIFAR-10 Batch 5:  Loss: 0.000888555 Training accuracy:  1.0 Validation accuracy:  0.7698\n",
      "Epoch 33, CIFAR-10 Batch 1:  Loss: 0.00459501 Training accuracy:  1.0 Validation accuracy:  0.7514\n",
      "Epoch 33, CIFAR-10 Batch 2:  Loss: 0.00489902 Training accuracy:  1.0 Validation accuracy:  0.7598\n",
      "Epoch 33, CIFAR-10 Batch 3:  Loss: 0.00679026 Training accuracy:  1.0 Validation accuracy:  0.7578\n",
      "Epoch 33, CIFAR-10 Batch 4:  Loss: 0.00147199 Training accuracy:  1.0 Validation accuracy:  0.7674\n",
      "Epoch 33, CIFAR-10 Batch 5:  Loss: 0.00175163 Training accuracy:  1.0 Validation accuracy:  0.7668\n",
      "Epoch 34, CIFAR-10 Batch 1:  Loss: 0.00506129 Training accuracy:  1.0 Validation accuracy:  0.75\n",
      "Epoch 34, CIFAR-10 Batch 2:  Loss: 0.000636349 Training accuracy:  1.0 Validation accuracy:  0.7688\n",
      "Epoch 34, CIFAR-10 Batch 3:  Loss: 8.4268e-05 Training accuracy:  1.0 Validation accuracy:  0.7664\n",
      "Epoch 34, CIFAR-10 Batch 4:  Loss: 0.000810868 Training accuracy:  1.0 Validation accuracy:  0.7752\n",
      "Epoch 34, CIFAR-10 Batch 5:  Loss: 0.00053133 Training accuracy:  1.0 Validation accuracy:  0.773\n",
      "Epoch 35, CIFAR-10 Batch 1:  Loss: 0.00148626 Training accuracy:  1.0 Validation accuracy:  0.7466\n",
      "Epoch 35, CIFAR-10 Batch 2:  Loss: 0.000143063 Training accuracy:  1.0 Validation accuracy:  0.7588\n",
      "Epoch 35, CIFAR-10 Batch 3:  Loss: 0.000133476 Training accuracy:  1.0 Validation accuracy:  0.7716\n",
      "Epoch 35, CIFAR-10 Batch 4:  Loss: 0.000621892 Training accuracy:  1.0 Validation accuracy:  0.7566\n",
      "Epoch 35, CIFAR-10 Batch 5:  Loss: 0.000858106 Training accuracy:  1.0 Validation accuracy:  0.7656\n",
      "Epoch 36, CIFAR-10 Batch 1:  Loss: 0.000623884 Training accuracy:  1.0 Validation accuracy:  0.7524\n",
      "Epoch 36, CIFAR-10 Batch 2:  Loss: 0.00468868 Training accuracy:  1.0 Validation accuracy:  0.757\n",
      "Epoch 36, CIFAR-10 Batch 3:  Loss: 0.000715886 Training accuracy:  1.0 Validation accuracy:  0.7616\n",
      "Epoch 36, CIFAR-10 Batch 4:  Loss: 0.000715679 Training accuracy:  1.0 Validation accuracy:  0.7648\n",
      "Epoch 36, CIFAR-10 Batch 5:  Loss: 0.000105612 Training accuracy:  1.0 Validation accuracy:  0.7666\n",
      "Epoch 37, CIFAR-10 Batch 1:  Loss: 0.00145112 Training accuracy:  1.0 Validation accuracy:  0.7494\n",
      "Epoch 37, CIFAR-10 Batch 2:  Loss: 0.000446836 Training accuracy:  1.0 Validation accuracy:  0.7594\n",
      "Epoch 37, CIFAR-10 Batch 3:  Loss: 0.00491299 Training accuracy:  1.0 Validation accuracy:  0.7608\n",
      "Epoch 37, CIFAR-10 Batch 4:  Loss: 0.000125735 Training accuracy:  1.0 Validation accuracy:  0.7742\n",
      "Epoch 37, CIFAR-10 Batch 5:  Loss: 0.000270147 Training accuracy:  1.0 Validation accuracy:  0.7686\n",
      "Epoch 38, CIFAR-10 Batch 1:  Loss: 0.000998768 Training accuracy:  1.0 Validation accuracy:  0.75\n",
      "Epoch 38, CIFAR-10 Batch 2:  Loss: 8.97611e-05 Training accuracy:  1.0 Validation accuracy:  0.754\n",
      "Epoch 38, CIFAR-10 Batch 3:  Loss: 6.52788e-05 Training accuracy:  1.0 Validation accuracy:  0.7666\n",
      "Epoch 38, CIFAR-10 Batch 4:  Loss: 0.000910251 Training accuracy:  1.0 Validation accuracy:  0.7552\n",
      "Epoch 38, CIFAR-10 Batch 5:  Loss: 0.000194848 Training accuracy:  1.0 Validation accuracy:  0.7652\n",
      "Epoch 39, CIFAR-10 Batch 1:  Loss: 0.00124476 Training accuracy:  1.0 Validation accuracy:  0.735\n",
      "Epoch 39, CIFAR-10 Batch 2:  Loss: 0.000329028 Training accuracy:  1.0 Validation accuracy:  0.7476\n",
      "Epoch 39, CIFAR-10 Batch 3:  Loss: 0.000508737 Training accuracy:  1.0 Validation accuracy:  0.762\n",
      "Epoch 39, CIFAR-10 Batch 4:  Loss: 4.79072e-05 Training accuracy:  1.0 Validation accuracy:  0.7642\n",
      "Epoch 39, CIFAR-10 Batch 5:  Loss: 0.000344738 Training accuracy:  1.0 Validation accuracy:  0.7662\n",
      "Epoch 40, CIFAR-10 Batch 1:  Loss: 0.0011561 Training accuracy:  1.0 Validation accuracy:  0.7362\n",
      "Epoch 40, CIFAR-10 Batch 2:  Loss: 8.93725e-05 Training accuracy:  1.0 Validation accuracy:  0.7556\n",
      "Epoch 40, CIFAR-10 Batch 3:  Loss: 0.00031248 Training accuracy:  1.0 Validation accuracy:  0.769\n",
      "Epoch 40, CIFAR-10 Batch 4:  Loss: 0.000123935 Training accuracy:  1.0 Validation accuracy:  0.7636\n",
      "Epoch 40, CIFAR-10 Batch 5:  Loss: 0.000130036 Training accuracy:  1.0 Validation accuracy:  0.7606\n",
      "Epoch 41, CIFAR-10 Batch 1:  Loss: 0.00178719 Training accuracy:  1.0 Validation accuracy:  0.7584\n",
      "Epoch 41, CIFAR-10 Batch 2:  Loss: 5.58769e-05 Training accuracy:  1.0 Validation accuracy:  0.7654\n",
      "Epoch 41, CIFAR-10 Batch 3:  Loss: 3.32888e-05 Training accuracy:  1.0 Validation accuracy:  0.7662\n",
      "Epoch 41, CIFAR-10 Batch 4:  Loss: 0.000610021 Training accuracy:  1.0 Validation accuracy:  0.7704\n",
      "Epoch 41, CIFAR-10 Batch 5:  Loss: 0.00123159 Training accuracy:  1.0 Validation accuracy:  0.7684\n",
      "Epoch 42, CIFAR-10 Batch 1:  Loss: 0.000237191 Training accuracy:  1.0 Validation accuracy:  0.7514\n",
      "Epoch 42, CIFAR-10 Batch 2:  Loss: 0.00057568 Training accuracy:  1.0 Validation accuracy:  0.7532\n",
      "Epoch 42, CIFAR-10 Batch 3:  Loss: 1.68299e-05 Training accuracy:  1.0 Validation accuracy:  0.7708\n",
      "Epoch 42, CIFAR-10 Batch 4:  Loss: 0.000312658 Training accuracy:  1.0 Validation accuracy:  0.7652\n",
      "Epoch 42, CIFAR-10 Batch 5:  Loss: 7.91389e-05 Training accuracy:  1.0 Validation accuracy:  0.7632\n",
      "Epoch 43, CIFAR-10 Batch 1:  Loss: 0.00096646 Training accuracy:  1.0 Validation accuracy:  0.7508\n",
      "Epoch 43, CIFAR-10 Batch 2:  Loss: 0.000333371 Training accuracy:  1.0 Validation accuracy:  0.7598\n",
      "Epoch 43, CIFAR-10 Batch 3:  Loss: 4.58014e-05 Training accuracy:  1.0 Validation accuracy:  0.7698\n",
      "Epoch 43, CIFAR-10 Batch 4:  Loss: 9.85549e-05 Training accuracy:  1.0 Validation accuracy:  0.7674\n",
      "Epoch 43, CIFAR-10 Batch 5:  Loss: 0.000253238 Training accuracy:  1.0 Validation accuracy:  0.7684\n",
      "Epoch 44, CIFAR-10 Batch 1:  Loss: 0.00545606 Training accuracy:  1.0 Validation accuracy:  0.7392\n",
      "Epoch 44, CIFAR-10 Batch 2:  Loss: 0.000359351 Training accuracy:  1.0 Validation accuracy:  0.7674\n",
      "Epoch 44, CIFAR-10 Batch 3:  Loss: 0.000176288 Training accuracy:  1.0 Validation accuracy:  0.7744\n",
      "Epoch 44, CIFAR-10 Batch 4:  Loss: 8.3663e-05 Training accuracy:  1.0 Validation accuracy:  0.7728\n",
      "Epoch 44, CIFAR-10 Batch 5:  Loss: 0.000100756 Training accuracy:  1.0 Validation accuracy:  0.7702\n",
      "Epoch 45, CIFAR-10 Batch 1:  Loss: 0.000130035 Training accuracy:  1.0 Validation accuracy:  0.758\n",
      "Epoch 45, CIFAR-10 Batch 2:  Loss: 0.000336031 Training accuracy:  1.0 Validation accuracy:  0.759\n",
      "Epoch 45, CIFAR-10 Batch 3:  Loss: 2.43724e-05 Training accuracy:  1.0 Validation accuracy:  0.7642\n",
      "Epoch 45, CIFAR-10 Batch 4:  Loss: 0.00303949 Training accuracy:  1.0 Validation accuracy:  0.768\n",
      "Epoch 45, CIFAR-10 Batch 5:  Loss: 7.94697e-05 Training accuracy:  1.0 Validation accuracy:  0.7748\n",
      "Epoch 46, CIFAR-10 Batch 1:  Loss: 0.000524863 Training accuracy:  1.0 Validation accuracy:  0.7604\n",
      "Epoch 46, CIFAR-10 Batch 2:  Loss: 0.000247794 Training accuracy:  1.0 Validation accuracy:  0.7586\n",
      "Epoch 46, CIFAR-10 Batch 3:  Loss: 0.000158122 Training accuracy:  1.0 Validation accuracy:  0.7656\n",
      "Epoch 46, CIFAR-10 Batch 4:  Loss: 0.000609511 Training accuracy:  1.0 Validation accuracy:  0.7718\n",
      "Epoch 46, CIFAR-10 Batch 5:  Loss: 3.71224e-05 Training accuracy:  1.0 Validation accuracy:  0.768\n",
      "Epoch 47, CIFAR-10 Batch 1:  Loss: 0.000413326 Training accuracy:  1.0 Validation accuracy:  0.7654\n",
      "Epoch 47, CIFAR-10 Batch 2:  Loss: 0.000106747 Training accuracy:  1.0 Validation accuracy:  0.7652\n",
      "Epoch 47, CIFAR-10 Batch 3:  Loss: 8.95531e-06 Training accuracy:  1.0 Validation accuracy:  0.7732\n",
      "Epoch 47, CIFAR-10 Batch 4:  Loss: 0.00013063 Training accuracy:  1.0 Validation accuracy:  0.7722\n",
      "Epoch 47, CIFAR-10 Batch 5:  Loss: 6.04201e-05 Training accuracy:  1.0 Validation accuracy:  0.766\n",
      "Epoch 48, CIFAR-10 Batch 1:  Loss: 1.26853e-05 Training accuracy:  1.0 Validation accuracy:  0.7618\n",
      "Epoch 48, CIFAR-10 Batch 2:  Loss: 0.000291487 Training accuracy:  1.0 Validation accuracy:  0.7494\n",
      "Epoch 48, CIFAR-10 Batch 3:  Loss: 0.00143208 Training accuracy:  1.0 Validation accuracy:  0.769\n",
      "Epoch 48, CIFAR-10 Batch 4:  Loss: 0.0368791 Training accuracy:  0.975 Validation accuracy:  0.7586\n",
      "Epoch 48, CIFAR-10 Batch 5:  Loss: 0.000293257 Training accuracy:  1.0 Validation accuracy:  0.7532\n",
      "Epoch 49, CIFAR-10 Batch 1:  Loss: 6.71749e-05 Training accuracy:  1.0 Validation accuracy:  0.766\n",
      "Epoch 49, CIFAR-10 Batch 2:  Loss: 0.000411332 Training accuracy:  1.0 Validation accuracy:  0.7612\n",
      "Epoch 49, CIFAR-10 Batch 3:  Loss: 5.27401e-05 Training accuracy:  1.0 Validation accuracy:  0.7606\n",
      "Epoch 49, CIFAR-10 Batch 4:  Loss: 2.56922e-05 Training accuracy:  1.0 Validation accuracy:  0.7736\n",
      "Epoch 49, CIFAR-10 Batch 5:  Loss: 4.15131e-05 Training accuracy:  1.0 Validation accuracy:  0.7566\n",
      "Epoch 50, CIFAR-10 Batch 1:  Loss: 0.000328555 Training accuracy:  1.0 Validation accuracy:  0.768\n",
      "Epoch 50, CIFAR-10 Batch 2:  Loss: 0.000608547 Training accuracy:  1.0 Validation accuracy:  0.7642\n",
      "Epoch 50, CIFAR-10 Batch 3:  Loss: 0.000225269 Training accuracy:  1.0 Validation accuracy:  0.759\n",
      "Epoch 50, CIFAR-10 Batch 4:  Loss: 0.00072743 Training accuracy:  1.0 Validation accuracy:  0.752\n",
      "Epoch 50, CIFAR-10 Batch 5:  Loss: 0.000417876 Training accuracy:  1.0 Validation accuracy:  0.772\n"
     ]
    }
   ],
   "source": [
    "\"\"\"\n",
    "DON'T MODIFY ANYTHING IN THIS CELL\n",
    "\"\"\"\n",
    "save_model_path = './image_classification'\n",
    "\n",
    "print('Training...')\n",
    "with tf.Session() as sess:\n",
    "    # Initializing the variables\n",
    "    sess.run(tf.global_variables_initializer())\n",
    "    \n",
    "    # Training cycle\n",
    "    for epoch in range(epochs):\n",
    "        # Loop over all batches\n",
    "        n_batches = 5\n",
    "        for batch_i in range(1, n_batches + 1):\n",
    "            for batch_features, batch_labels in helper.load_preprocess_training_batch(batch_i, batch_size):\n",
    "                train_neural_network(sess, optimizer, keep_probability, batch_features, batch_labels)\n",
    "            print('Epoch {:>2}, CIFAR-10 Batch {}:  '.format(epoch + 1, batch_i), end='')\n",
    "            print_stats(sess, batch_features, batch_labels, cost, accuracy)\n",
    "            \n",
    "    # Save Model\n",
    "    saver = tf.train.Saver()\n",
    "    save_path = saver.save(sess, save_model_path)"
   ]
  },
  {
   "cell_type": "markdown",
   "metadata": {
    "deletable": true,
    "editable": true
   },
   "source": [
    "# Checkpoint\n",
    "The model has been saved to disk.\n",
    "## Test Model\n",
    "Test your model against the test dataset.  This will be your final accuracy. You should have an accuracy greater than 50%. If you don't, keep tweaking the model architecture and parameters."
   ]
  },
  {
   "cell_type": "code",
   "execution_count": 54,
   "metadata": {
    "collapsed": false,
    "deletable": true,
    "editable": true
   },
   "outputs": [
    {
     "name": "stdout",
     "output_type": "stream",
     "text": [
      "Testing Accuracy: 0.7558346518987342\n",
      "\n"
     ]
    },
    {
     "data": {
      "image/png": "[encoded data removed]",
      "text/plain": [
       "<matplotlib.figure.Figure at 0x7fb0423e4828>"
      ]
     },
     "metadata": {
      "image/png": {
       "height": 319,
       "width": 355
      }
     },
     "output_type": "display_data"
    }
   ],
   "source": [
    "\"\"\"\n",
    "DON'T MODIFY ANYTHING IN THIS CELL\n",
    "\"\"\"\n",
    "%matplotlib inline\n",
    "%config InlineBackend.figure_format = 'retina'\n",
    "\n",
    "import tensorflow as tf\n",
    "import pickle\n",
    "import helper\n",
    "import random\n",
    "\n",
    "# Set batch size if not already set\n",
    "try:\n",
    "    if batch_size:\n",
    "        pass\n",
    "except NameError:\n",
    "    batch_size = 64\n",
    "\n",
    "save_model_path = './image_classification'\n",
    "n_samples = 4\n",
    "top_n_predictions = 3\n",
    "\n",
    "def test_model():\n",
    "    \"\"\"\n",
    "    Test the saved model against the test dataset\n",
    "    \"\"\"\n",
    "\n",
    "    test_features, test_labels = pickle.load(open('preprocess_test.p', mode='rb'))\n",
    "    loaded_graph = tf.Graph()\n",
    "\n",
    "    with tf.Session(graph=loaded_graph) as sess:\n",
    "        # Load model\n",
    "        loader = tf.train.import_meta_graph(save_model_path + '.meta')\n",
    "        loader.restore(sess, save_model_path)\n",
    "\n",
    "        # Get Tensors from loaded model\n",
    "        loaded_x = loaded_graph.get_tensor_by_name('x:0')\n",
    "        loaded_y = loaded_graph.get_tensor_by_name('y:0')\n",
    "        loaded_keep_prob = loaded_graph.get_tensor_by_name('keep_prob:0')\n",
    "        loaded_logits = loaded_graph.get_tensor_by_name('logits:0')\n",
    "        loaded_acc = loaded_graph.get_tensor_by_name('accuracy:0')\n",
    "        \n",
    "        # Get accuracy in batches for memory limitations\n",
    "        test_batch_acc_total = 0\n",
    "        test_batch_count = 0\n",
    "        \n",
    "        for test_feature_batch, test_label_batch in helper.batch_features_labels(test_features, test_labels, batch_size):\n",
    "            test_batch_acc_total += sess.run(\n",
    "                loaded_acc,\n",
    "                feed_dict={loaded_x: test_feature_batch, loaded_y: test_label_batch, loaded_keep_prob: 1.0})\n",
    "            test_batch_count += 1\n",
    "\n",
    "        print('Testing Accuracy: {}\\n'.format(test_batch_acc_total/test_batch_count))\n",
    "\n",
    "        # Print Random Samples\n",
    "        random_test_features, random_test_labels = tuple(zip(*random.sample(list(zip(test_features, test_labels)), n_samples)))\n",
    "        random_test_predictions = sess.run(\n",
    "            tf.nn.top_k(tf.nn.softmax(loaded_logits), top_n_predictions),\n",
    "            feed_dict={loaded_x: random_test_features, loaded_y: random_test_labels, loaded_keep_prob: 1.0})\n",
    "        helper.display_image_predictions(random_test_features, random_test_labels, random_test_predictions)\n",
    "\n",
    "\n",
    "test_model()"
   ]
  },
  {
   "cell_type": "markdown",
   "metadata": {
    "deletable": true,
    "editable": true
   },
   "source": [
    "## Why 50-80% Accuracy?\n",
    "You might be wondering why you can't get an accuracy any higher. First things first, 50% isn't bad for a simple CNN.  Pure guessing would get you 10% accuracy. However, you might notice people are getting scores [well above 80%](http://rodrigob.github.io/are_we_there_yet/build/classification_datasets_results.html#43494641522d3130).  That's because we haven't taught you all there is to know about neural networks. We still need to cover a few more techniques.\n",
    "## Submitting This Project\n",
    "When submitting this project, make sure to run all the cells before saving the notebook.  Save the notebook file as \"dlnd_image_classification.ipynb\" and save it as a HTML file under \"File\" -> \"Download as\".  Include the \"helper.py\" and \"problem_unittests.py\" files in your submission."
   ]
  }
 ],
 "metadata": {
  "kernelspec": {
   "display_name": "Python 3",
   "language": "python",
   "name": "python3"
  },
  "language_info": {
   "codemirror_mode": {
    "name": "ipython",
    "version": 3
   },
   "file_extension": ".py",
   "mimetype": "text/x-python",
   "name": "python",
   "nbconvert_exporter": "python",
   "pygments_lexer": "ipython3",
   "version": "3.5.2"
  }
 },
 "nbformat": 4,
 "nbformat_minor": 0
}
