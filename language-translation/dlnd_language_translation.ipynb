{
 "cells": [
  {
   "cell_type": "markdown",
   "metadata": {
    "collapsed": true
   },
   "source": [
    "# Language Translation\n",
    "In this project, you’re going to take a peek into the realm of neural network machine translation.  You’ll be training a sequence to sequence model on a dataset of English and French sentences that can translate new sentences from English to French.\n",
    "## Get the Data\n",
    "Since translating the whole language of English to French will take lots of time to train, we have provided you with a small portion of the English corpus."
   ]
  },
  {
   "cell_type": "code",
   "execution_count": 4,
   "metadata": {
    "collapsed": true
   },
   "outputs": [],
   "source": [
    "\"\"\"\n",
    "DON'T MODIFY ANYTHING IN THIS CELL\n",
    "\"\"\"\n",
    "import helper\n",
    "import problem_unittests as tests\n",
    "\n",
    "source_path = 'data/small_vocab_en'\n",
    "target_path = 'data/small_vocab_fr'\n",
    "source_text = helper.load_data(source_path)\n",
    "target_text = helper.load_data(target_path)"
   ]
  },
  {
   "cell_type": "markdown",
   "metadata": {},
   "source": [
    "## Explore the Data\n",
    "Play around with view_sentence_range to view different parts of the data."
   ]
  },
  {
   "cell_type": "code",
   "execution_count": 5,
   "metadata": {
    "collapsed": false
   },
   "outputs": [
    {
     "name": "stdout",
     "output_type": "stream",
     "text": [
      "Dataset Stats\n",
      "Roughly the number of unique words: 227\n",
      "Number of sentences: 137861\n",
      "Average number of words in a sentence: 13.225277634719028\n",
      "\n",
      "English sentences 0 to 10:\n",
      "new jersey is sometimes quiet during autumn , and it is snowy in april .\n",
      "the united states is usually chilly during july , and it is usually freezing in november .\n",
      "california is usually quiet during march , and it is usually hot in june .\n",
      "the united states is sometimes mild during june , and it is cold in september .\n",
      "your least liked fruit is the grape , but my least liked is the apple .\n",
      "his favorite fruit is the orange , but my favorite is the grape .\n",
      "paris is relaxing during december , but it is usually chilly in july .\n",
      "new jersey is busy during spring , and it is never hot in march .\n",
      "our least liked fruit is the lemon , but my least liked is the grape .\n",
      "the united states is sometimes busy during january , and it is sometimes warm in november .\n",
      "\n",
      "French sentences 0 to 10:\n",
      "new jersey est parfois calme pendant l' automne , et il est neigeux en avril .\n",
      "les états-unis est généralement froid en juillet , et il gèle habituellement en novembre .\n",
      "california est généralement calme en mars , et il est généralement chaud en juin .\n",
      "les états-unis est parfois légère en juin , et il fait froid en septembre .\n",
      "votre moins aimé fruit est le raisin , mais mon moins aimé est la pomme .\n",
      "son fruit préféré est l'orange , mais mon préféré est le raisin .\n",
      "paris est relaxant en décembre , mais il est généralement froid en juillet .\n",
      "new jersey est occupé au printemps , et il est jamais chaude en mars .\n",
      "notre fruit est moins aimé le citron , mais mon moins aimé est le raisin .\n",
      "les états-unis est parfois occupé en janvier , et il est parfois chaud en novembre .\n"
     ]
    }
   ],
   "source": [
    "view_sentence_range = (0, 10)\n",
    "\n",
    "\"\"\"\n",
    "DON'T MODIFY ANYTHING IN THIS CELL\n",
    "\"\"\"\n",
    "import numpy as np\n",
    "\n",
    "print('Dataset Stats')\n",
    "print('Roughly the number of unique words: {}'.format(len({word: None for word in source_text.split()})))\n",
    "\n",
    "sentences = source_text.split('\\n')\n",
    "word_counts = [len(sentence.split()) for sentence in sentences]\n",
    "print('Number of sentences: {}'.format(len(sentences)))\n",
    "print('Average number of words in a sentence: {}'.format(np.average(word_counts)))\n",
    "\n",
    "print()\n",
    "print('English sentences {} to {}:'.format(*view_sentence_range))\n",
    "print('\\n'.join(source_text.split('\\n')[view_sentence_range[0]:view_sentence_range[1]]))\n",
    "print()\n",
    "print('French sentences {} to {}:'.format(*view_sentence_range))\n",
    "print('\\n'.join(target_text.split('\\n')[view_sentence_range[0]:view_sentence_range[1]]))"
   ]
  },
  {
   "cell_type": "markdown",
   "metadata": {},
   "source": [
    "## Implement Preprocessing Function\n",
    "### Text to Word Ids\n",
    "As you did with other RNNs, you must turn the text into a number so the computer can understand it. In the function `text_to_ids()`, you'll turn `source_text` and `target_text` from words to ids.  However, you need to add the `<EOS>` word id at the end of `target_text`.  This will help the neural network predict when the sentence should end.\n",
    "\n",
    "You can get the `<EOS>` word id by doing:\n",
    "```python\n",
    "target_vocab_to_int['<EOS>']\n",
    "```\n",
    "You can get other word ids using `source_vocab_to_int` and `target_vocab_to_int`."
   ]
  },
  {
   "cell_type": "code",
   "execution_count": 6,
   "metadata": {
    "collapsed": false
   },
   "outputs": [
    {
     "name": "stdout",
     "output_type": "stream",
     "text": [
      "Tests Passed\n"
     ]
    }
   ],
   "source": [
    "def text_to_ids(source_text, target_text, source_vocab_to_int, target_vocab_to_int):\n",
    "    \"\"\"\n",
    "    Convert source and target text to proper word ids\n",
    "    :param source_text: String that contains all the source text.\n",
    "    :param target_text: String that contains all the target text.\n",
    "    :param source_vocab_to_int: Dictionary to go from the source words to an id\n",
    "    :param target_vocab_to_int: Dictionary to go from the target words to an id\n",
    "    :return: A tuple of lists (source_id_text, target_id_text)\n",
    "    \"\"\"\n",
    "\n",
    "    def convert_source_sentence(sentence):\n",
    "        return [source_vocab_to_int[w] for w in sentence.split(\" \") if w!=\"\"]\n",
    "    \n",
    "    def convert_target_sentence(sentence):\n",
    "        return [target_vocab_to_int[w] for w in sentence.split(\" \") if w!=\"\"]+[target_vocab_to_int['<EOS>']]\n",
    "    \n",
    "    return  [convert_source_sentence(sentence) for sentence in source_text.split(\"\\n\")],\\\n",
    "            [convert_target_sentence(sentence) for sentence in target_text.split(\"\\n\")]\n",
    "\n",
    "\n",
    "\"\"\"\n",
    "DON'T MODIFY ANYTHING IN THIS CELL THAT IS BELOW THIS LINE\n",
    "\"\"\"\n",
    "tests.test_text_to_ids(text_to_ids)"
   ]
  },
  {
   "cell_type": "markdown",
   "metadata": {},
   "source": [
    "### Preprocess all the data and save it\n",
    "Running the code cell below will preprocess all the data and save it to file."
   ]
  },
  {
   "cell_type": "code",
   "execution_count": 7,
   "metadata": {
    "collapsed": false
   },
   "outputs": [
    {
     "data": {
      "text/plain": [
       "<function helper.preprocess_and_save_data>"
      ]
     },
     "execution_count": 7,
     "metadata": {},
     "output_type": "execute_result"
    }
   ],
   "source": [
    "helper.preprocess_and_save_data"
   ]
  },
  {
   "cell_type": "code",
   "execution_count": 8,
   "metadata": {
    "collapsed": false
   },
   "outputs": [],
   "source": [
    "\"\"\"\n",
    "DON'T MODIFY ANYTHING IN THIS CELL\n",
    "\"\"\"\n",
    "helper.preprocess_and_save_data(source_path, target_path, text_to_ids)"
   ]
  },
  {
   "cell_type": "markdown",
   "metadata": {},
   "source": [
    "# Check Point\n",
    "This is your first checkpoint. If you ever decide to come back to this notebook or have to restart the notebook, you can start from here. The preprocessed data has been saved to disk."
   ]
  },
  {
   "cell_type": "code",
   "execution_count": 9,
   "metadata": {
    "collapsed": true
   },
   "outputs": [],
   "source": [
    "\"\"\"\n",
    "DON'T MODIFY ANYTHING IN THIS CELL\n",
    "\"\"\"\n",
    "import numpy as np\n",
    "import helper\n",
    "\n",
    "(source_int_text, target_int_text), (source_vocab_to_int, target_vocab_to_int), _ = helper.load_preprocess()"
   ]
  },
  {
   "cell_type": "markdown",
   "metadata": {},
   "source": [
    "### Check the Version of TensorFlow and Access to GPU\n",
    "This will check to make sure you have the correct version of TensorFlow and access to a GPU"
   ]
  },
  {
   "cell_type": "code",
   "execution_count": 10,
   "metadata": {
    "collapsed": false
   },
   "outputs": [
    {
     "name": "stdout",
     "output_type": "stream",
     "text": [
      "TensorFlow Version: 1.1.0\n",
      "Default GPU Device: /gpu:0\n"
     ]
    }
   ],
   "source": [
    "\"\"\"\n",
    "DON'T MODIFY ANYTHING IN THIS CELL\n",
    "\"\"\"\n",
    "from distutils.version import LooseVersion\n",
    "import warnings\n",
    "import tensorflow as tf\n",
    "from tensorflow.python.layers.core import Dense\n",
    "\n",
    "# Check TensorFlow Version\n",
    "assert LooseVersion(tf.__version__) >= LooseVersion('1.1'), 'Please use TensorFlow version 1.1 or newer'\n",
    "print('TensorFlow Version: {}'.format(tf.__version__))\n",
    "\n",
    "# Check for a GPU\n",
    "if not tf.test.gpu_device_name():\n",
    "    warnings.warn('No GPU found. Please use a GPU to train your neural network.')\n",
    "else:\n",
    "    print('Default GPU Device: {}'.format(tf.test.gpu_device_name()))"
   ]
  },
  {
   "cell_type": "markdown",
   "metadata": {},
   "source": [
    "## Build the Neural Network\n",
    "You'll build the components necessary to build a Sequence-to-Sequence model by implementing the following functions below:\n",
    "- `model_inputs`\n",
    "- `process_decoder_input`\n",
    "- `encoding_layer`\n",
    "- `decoding_layer_train`\n",
    "- `decoding_layer_infer`\n",
    "- `decoding_layer`\n",
    "- `seq2seq_model`\n",
    "\n",
    "### Input\n",
    "Implement the `model_inputs()` function to create TF Placeholders for the Neural Network. It should create the following placeholders:\n",
    "\n",
    "- Input text placeholder named \"input\" using the TF Placeholder name parameter with rank 2.\n",
    "- Targets placeholder with rank 2.\n",
    "- Learning rate placeholder with rank 0.\n",
    "- Keep probability placeholder named \"keep_prob\" using the TF Placeholder name parameter with rank 0.\n",
    "- Target sequence length placeholder named \"target_sequence_length\" with rank 1\n",
    "- Max target sequence length tensor named \"max_target_len\" getting its value from applying tf.reduce_max on the target_sequence_length placeholder. Rank 0.\n",
    "- Source sequence length placeholder named \"source_sequence_length\" with rank 1\n",
    "\n",
    "Return the placeholders in the following the tuple (input, targets, learning rate, keep probability, target sequence length, max target sequence length, source sequence length)"
   ]
  },
  {
   "cell_type": "code",
   "execution_count": 11,
   "metadata": {
    "collapsed": false
   },
   "outputs": [
    {
     "name": "stdout",
     "output_type": "stream",
     "text": [
      "Tests Passed\n"
     ]
    }
   ],
   "source": [
    "def model_inputs():\n",
    "    \"\"\"\n",
    "    Create TF Placeholders for input, targets, learning rate, and lengths of source and target sequences.\n",
    "    :return: Tuple (input, targets, learning rate, keep probability, target sequence length,\n",
    "    max target sequence length, source sequence length)\n",
    "    \"\"\"\n",
    "    input = tf.placeholder(tf.int32,[None,None],name=\"input\")\n",
    "    targets = tf.placeholder(tf.int32,[None,None],name=\"targets\")\n",
    "    learning_rate = tf.placeholder(tf.float32,name=\"learning_rate\")\n",
    "    keep_probability = tf.placeholder(tf.float32,name=\"keep_prob\")\n",
    "    target_sequence_length = tf.placeholder(tf.int32,[None],name=\"target_sequence_length\")\n",
    "    max_target_len = tf.reduce_max(target_sequence_length)\n",
    "    source_sequence_len = tf.placeholder(tf.int32,[None],name=\"source_sequence_length\")\n",
    "    \n",
    "    # TODO: Implement Function\n",
    "    return input, targets, learning_rate, keep_probability, target_sequence_length, max_target_len, source_sequence_len\n",
    "\n",
    "\n",
    "\"\"\"\n",
    "DON'T MODIFY ANYTHING IN THIS CELL THAT IS BELOW THIS LINE\n",
    "\"\"\"\n",
    "tests.test_model_inputs(model_inputs)"
   ]
  },
  {
   "cell_type": "markdown",
   "metadata": {},
   "source": [
    "### Process Decoder Input\n",
    "Implement `process_decoder_input` by removing the last word id from each batch in `target_data` and concat the GO ID to the begining of each batch."
   ]
  },
  {
   "cell_type": "code",
   "execution_count": 12,
   "metadata": {
    "collapsed": false
   },
   "outputs": [
    {
     "data": {
      "text/plain": [
       "(['def test_process_encoding_input(process_encoding_input):\\n',\n",
       "  '    batch_size = 2\\n',\n",
       "  '    seq_length = 3\\n',\n",
       "  \"    target_vocab_to_int = {'<GO>': 3}\\n\",\n",
       "  '    with tf.Graph().as_default():\\n',\n",
       "  '        target_data = tf.placeholder(tf.int32, [batch_size, seq_length])\\n',\n",
       "  '        dec_input = process_encoding_input(target_data, target_vocab_to_int, batch_size)\\n',\n",
       "  '\\n',\n",
       "  '        assert dec_input.get_shape() == (batch_size, seq_length),\\\\\\n',\n",
       "  \"            'Wrong shape returned.  Found {}'.format(dec_input.get_shape())\\n\",\n",
       "  '\\n',\n",
       "  '        test_target_data = [[10, 20, 30], [40, 18, 23]]\\n',\n",
       "  '        with tf.Session() as sess:\\n',\n",
       "  '            test_dec_input = sess.run(dec_input, {target_data: test_target_data})\\n',\n",
       "  '\\n',\n",
       "  \"        assert test_dec_input[0][0] == target_vocab_to_int['<GO>'] and\\\\\\n\",\n",
       "  \"               test_dec_input[1][0] == target_vocab_to_int['<GO>'],\\\\\\n\",\n",
       "  \"            'Missing GO Id.'\\n\",\n",
       "  '\\n',\n",
       "  '    _print_success_message()\\n'],\n",
       " 281)"
      ]
     },
     "execution_count": 12,
     "metadata": {},
     "output_type": "execute_result"
    }
   ],
   "source": [
    "import inspect\n",
    "inspect.getsourcelines(tests.test_process_encoding_input)"
   ]
  },
  {
   "cell_type": "code",
   "execution_count": 61,
   "metadata": {
    "collapsed": false
   },
   "outputs": [
    {
     "name": "stdout",
     "output_type": "stream",
     "text": [
      "Tests Passed\n"
     ]
    }
   ],
   "source": [
    "def process_decoder_input(target_data, target_vocab_to_int, batch_size):\n",
    "    \"\"\"\n",
    "    Preprocess target data for encoding\n",
    "    :param target_data: Target Placehoder\n",
    "    :param target_vocab_to_int: Dictionary to go from the target words to an id\n",
    "    :param batch_size: Batch Size\n",
    "    :return: Preprocessed target data\n",
    "    \"\"\"\n",
    "    \n",
    "    return(tf.concat([tf.constant([[target_vocab_to_int[\"<GO>\"]]]*batch_size),\\\n",
    "                     tf.strided_slice(target_data,[0,0],[batch_size,-1],[1,1])],1))\n",
    "\n",
    "\n",
    "\"\"\"\n",
    "DON'T MODIFY ANYTHING IN THIS CELL THAT IS BELOW THIS LINE\n",
    "\"\"\"\n",
    "tests.test_process_encoding_input(process_decoder_input)"
   ]
  },
  {
   "cell_type": "markdown",
   "metadata": {},
   "source": [
    "### Encoding\n",
    "Implement `encoding_layer()` to create a Encoder RNN layer:\n",
    " * Embed the encoder input using [`tf.contrib.layers.embed_sequence`](https://www.tensorflow.org/api_docs/python/tf/contrib/layers/embed_sequence)\n",
    " * Construct a [stacked](https://github.com/tensorflow/tensorflow/blob/6947f65a374ebf29e74bb71e36fd82760056d82c/tensorflow/docs_src/tutorials/recurrent.md#stacking-multiple-lstms) [`tf.contrib.rnn.LSTMCell`](https://www.tensorflow.org/api_docs/python/tf/contrib/rnn/LSTMCell) wrapped in a [`tf.contrib.rnn.DropoutWrapper`](https://www.tensorflow.org/api_docs/python/tf/contrib/rnn/DropoutWrapper)\n",
    " * Pass cell and embedded input to [`tf.nn.dynamic_rnn()`](https://www.tensorflow.org/api_docs/python/tf/nn/dynamic_rnn)"
   ]
  },
  {
   "cell_type": "code",
   "execution_count": 16,
   "metadata": {
    "collapsed": false,
    "scrolled": false
   },
   "outputs": [
    {
     "name": "stdout",
     "output_type": "stream",
     "text": [
      "Tests Passed\n"
     ]
    }
   ],
   "source": [
    "from imp import reload\n",
    "reload(tests)\n",
    "\n",
    "def encoding_layer(rnn_inputs, rnn_size, num_layers, keep_prob, \n",
    "                   source_sequence_length, source_vocab_size, \n",
    "                   encoding_embedding_size):\n",
    "    \"\"\"\n",
    "    Create encoding layer\n",
    "    :param rnn_inputs: Inputs for the RNN\n",
    "    :param rnn_size: RNN Size\n",
    "    :param num_layers: Number of layers\n",
    "    :param keep_prob: Dropout keep probability\n",
    "    :param source_sequence_length: a list of the lengths of each sequence in the batch\n",
    "    :param source_vocab_size: vocabulary size of source data\n",
    "    :param encoding_embedding_size: embedding size of source data\n",
    "    :return: tuple (RNN output, RNN state)\n",
    "    \"\"\"\n",
    "    # TODO: Implement Function\n",
    "    \n",
    "    embed = tf.contrib.layers.embed_sequence(rnn_inputs,rnn_size,encoding_embedding_size)\n",
    "    lstm_cell = tf.contrib.rnn.LSTMCell(rnn_size)\n",
    "    lstm_stack = tf.contrib.rnn.DropoutWrapper(\\\n",
    "        tf.contrib.rnn.MultiRNNCell([tf.contrib.rnn.LSTMCell(rnn_size) for _ in range(num_layers)]),\n",
    "        output_keep_prob=keep_prob)\n",
    "    return tf.nn.dynamic_rnn(lstm_stack,embed,source_sequence_length,dtype=tf.float32)\n",
    "    \n",
    "\"\"\"\n",
    "DON'T MODIFY ANYTHING IN THIS CELL THAT IS BELOW THIS LINE\n",
    "\"\"\"\n",
    "tests.test_encoding_layer(encoding_layer)"
   ]
  },
  {
   "cell_type": "markdown",
   "metadata": {},
   "source": [
    "### Decoding - Training\n",
    "Create a training decoding layer:\n",
    "* Create a [`tf.contrib.seq2seq.TrainingHelper`](https://www.tensorflow.org/api_docs/python/tf/contrib/seq2seq/TrainingHelper) \n",
    "* Create a [`tf.contrib.seq2seq.BasicDecoder`](https://www.tensorflow.org/api_docs/python/tf/contrib/seq2seq/BasicDecoder)\n",
    "* Obtain the decoder outputs from [`tf.contrib.seq2seq.dynamic_decode`](https://www.tensorflow.org/api_docs/python/tf/contrib/seq2seq/dynamic_decode)"
   ]
  },
  {
   "cell_type": "code",
   "execution_count": 21,
   "metadata": {
    "collapsed": false
   },
   "outputs": [
    {
     "name": "stdout",
     "output_type": "stream",
     "text": [
      "Tests Passed\n"
     ]
    }
   ],
   "source": [
    "\n",
    "def decoding_layer_train(encoder_state, dec_cell, dec_embed_input, \n",
    "                         target_sequence_length, max_summary_length, \n",
    "                         output_layer, keep_prob):\n",
    "    \"\"\"\n",
    "    Create a decoding layer for training\n",
    "    :param encoder_state: Encoder State\n",
    "    :param dec_cell: Decoder RNN Cell\n",
    "    :param dec_embed_input: Decoder embedded input\n",
    "    :param target_sequence_length: The lengths of each sequence in the target batch\n",
    "    :param max_summary_length: The length of the longest sequence in the batch\n",
    "    :param output_layer: Function to apply the output layer\n",
    "    :param keep_prob: Dropout keep probability\n",
    "    :return: BasicDecoderOutput containing training logits and sample_id\n",
    "    \"\"\"\n",
    "    \n",
    "    training_helper = tf.contrib.seq2seq.TrainingHelper(dec_embed_input,\n",
    "                                      sequence_length=target_sequence_length)\n",
    "    \n",
    "    decoder = tf.contrib.seq2seq.BasicDecoder(\\\n",
    "            tf.contrib.rnn.DropoutWrapper(dec_cell,output_keep_prob=keep_prob),\\\n",
    "            training_helper,encoder_state,output_layer)\n",
    "    \n",
    "    final_outputs, final_state = tf.contrib.seq2seq.dynamic_decode(decoder,maximum_iterations=max_summary_length)\n",
    "    return(final_outputs)\n",
    "\n",
    "\n",
    "\"\"\"\n",
    "DON'T MODIFY ANYTHING IN THIS CELL THAT IS BELOW THIS LINE\n",
    "\"\"\"\n",
    "tests.test_decoding_layer_train(decoding_layer_train)"
   ]
  },
  {
   "cell_type": "markdown",
   "metadata": {},
   "source": [
    "### Decoding - Inference\n",
    "Create inference decoder:\n",
    "* Create a [`tf.contrib.seq2seq.GreedyEmbeddingHelper`](https://www.tensorflow.org/api_docs/python/tf/contrib/seq2seq/GreedyEmbeddingHelper)\n",
    "* Create a [`tf.contrib.seq2seq.BasicDecoder`](https://www.tensorflow.org/api_docs/python/tf/contrib/seq2seq/BasicDecoder)\n",
    "* Obtain the decoder outputs from [`tf.contrib.seq2seq.dynamic_decode`](https://www.tensorflow.org/api_docs/python/tf/contrib/seq2seq/dynamic_decode)"
   ]
  },
  {
   "cell_type": "code",
   "execution_count": 35,
   "metadata": {
    "collapsed": false,
    "scrolled": true
   },
   "outputs": [
    {
     "name": "stdout",
     "output_type": "stream",
     "text": [
      "Tests Passed\n"
     ]
    }
   ],
   "source": [
    "def decoding_layer_infer(encoder_state, dec_cell, dec_embeddings, start_of_sequence_id,\n",
    "                         end_of_sequence_id, max_target_sequence_length,\n",
    "                         vocab_size, output_layer, batch_size, keep_prob):\n",
    "    \"\"\"\n",
    "    Create a decoding layer for inference\n",
    "    :param encoder_state: Encoder state\n",
    "    :param dec_cell: Decoder RNN Cell\n",
    "    :param dec_embeddings: Decoder embeddings\n",
    "    :param start_of_sequence_id: GO ID\n",
    "    :param end_of_sequence_id: EOS Id\n",
    "    :param max_target_sequence_length: Maximum length of target sequences\n",
    "    :param vocab_size: Size of decoder/target vocabulary\n",
    "    :param decoding_scope: TenorFlow Variable Scope for decoding\n",
    "    :param output_layer: Function to apply the output layer\n",
    "    :param batch_size: Batch size\n",
    "    :param keep_prob: Dropout keep probability\n",
    "    :return: BasicDecoderOutput containing inference logits and sample_id\n",
    "    \"\"\"\n",
    "    start_tokens = tf.tile(tf.constant([start_of_sequence_id], dtype=tf.int32), [batch_size], name='start_tokens')\n",
    "    embed_helper = tf.contrib.seq2seq.GreedyEmbeddingHelper(dec_embeddings,start_tokens,end_of_sequence_id)\n",
    "    \n",
    "    decoder = tf.contrib.seq2seq.BasicDecoder(\\\n",
    "            tf.contrib.rnn.DropoutWrapper(dec_cell,output_keep_prob=keep_prob),\\\n",
    "            embed_helper,encoder_state,output_layer)\n",
    "    \n",
    "    final_outputs, final_state = tf.contrib.seq2seq.dynamic_decode(decoder,maximum_iterations=max_target_sequence_length,impute_finished=True)\n",
    "    \n",
    "  \n",
    "    \n",
    "    return final_outputs\n",
    "\n",
    "\n",
    "\n",
    "\"\"\"\n",
    "DON'T MODIFY ANYTHING IN THIS CELL THAT IS BELOW THIS LINE\n",
    "\"\"\"\n",
    "tests.test_decoding_layer_infer(decoding_layer_infer)"
   ]
  },
  {
   "cell_type": "markdown",
   "metadata": {},
   "source": [
    "### Build the Decoding Layer\n",
    "Implement `decoding_layer()` to create a Decoder RNN layer.\n",
    "\n",
    "* Embed the target sequences\n",
    "* Construct the decoder LSTM cell (just like you constructed the encoder cell above)\n",
    "* Create an output layer to map the outputs of the decoder to the elements of our vocabulary\n",
    "* Use the your `decoding_layer_train(encoder_state, dec_cell, dec_embed_input, target_sequence_length, max_target_sequence_length, output_layer, keep_prob)` function to get the training logits.\n",
    "* Use your `decoding_layer_infer(encoder_state, dec_cell, dec_embeddings, start_of_sequence_id, end_of_sequence_id, max_target_sequence_length, vocab_size, output_layer, batch_size, keep_prob)` function to get the inference logits.\n",
    "\n",
    "Note: You'll need to use [tf.variable_scope](https://www.tensorflow.org/api_docs/python/tf/variable_scope) to share variables between training and inference."
   ]
  },
  {
   "cell_type": "code",
   "execution_count": 41,
   "metadata": {
    "collapsed": false
   },
   "outputs": [
    {
     "name": "stdout",
     "output_type": "stream",
     "text": [
      "Tests Passed\n"
     ]
    }
   ],
   "source": [
    "def decoding_layer(dec_input, encoder_state,\n",
    "                   target_sequence_length, max_target_sequence_length,\n",
    "                   rnn_size,\n",
    "                   num_layers, target_vocab_to_int, target_vocab_size,\n",
    "                   batch_size, keep_prob, decoding_embedding_size):\n",
    "    \"\"\"\n",
    "    Create decoding layer\n",
    "    :param dec_input: Decoder input\n",
    "    :param encoder_state: Encoder state\n",
    "    :param target_sequence_length: The lengths of each sequence in the target batch\n",
    "    :param max_target_sequence_length: Maximum length of target sequences\n",
    "    :param rnn_size: RNN Size\n",
    "    :param num_layers: Number of layers\n",
    "    :param target_vocab_to_int: Dictionary to go from the target words to an id\n",
    "    :param target_vocab_size: Size of target vocabulary\n",
    "    :param batch_size: The size of the batch\n",
    "    :param keep_prob: Dropout keep probability\n",
    "    :return: Tuple of (Training BasicDecoderOutput, Inference BasicDecoderOutput)\n",
    "    \"\"\"\n",
    "\n",
    "    dec_embeddings = tf.Variable(tf.random_uniform([target_vocab_size, decoding_embedding_size]))\n",
    "    dec_embed_input = tf.nn.embedding_lookup(dec_embeddings, dec_input)\n",
    "\n",
    "    \n",
    "    lstm_cell = tf.contrib.rnn.LSTMCell(rnn_size)\n",
    "    lstm_stack = tf.contrib.rnn.DropoutWrapper(\\\n",
    "        tf.contrib.rnn.MultiRNNCell([tf.contrib.rnn.LSTMCell(rnn_size) for _ in range(num_layers)]),\n",
    "        output_keep_prob=keep_prob)\n",
    "    \n",
    "    output_layer = Dense(target_vocab_size,\n",
    "                         kernel_initializer = tf.truncated_normal_initializer(mean = 0.0, stddev=0.1))\n",
    "    \n",
    "    with tf.variable_scope(\"decode\"):\n",
    "        train_output = decoding_layer_train(encoder_state, lstm_stack, dec_embed_input, target_sequence_length, max_target_sequence_length, output_layer, keep_prob) \n",
    "    with tf.variable_scope(\"decode\", reuse=True):\n",
    "        infer_output = decoding_layer_infer(encoder_state, lstm_stack, dec_embeddings, target_vocab_to_int['<GO>'], target_vocab_to_int['<EOS>'],\\\n",
    "                                        max_target_sequence_length, target_vocab_size, output_layer, batch_size, keep_prob)\n",
    "    \n",
    "    return train_output, infer_output\n",
    "\n",
    "\n",
    "\n",
    "\"\"\"\n",
    "DON'T MODIFY ANYTHING IN THIS CELL THAT IS BELOW THIS LINE\n",
    "\"\"\"\n",
    "tests.test_decoding_layer(decoding_layer)"
   ]
  },
  {
   "cell_type": "markdown",
   "metadata": {},
   "source": [
    "### Build the Neural Network\n",
    "Apply the functions you implemented above to:\n",
    "\n",
    "- Apply embedding to the input data for the encoder.\n",
    "- Encode the input using your `encoding_layer(rnn_inputs, rnn_size, num_layers, keep_prob,  source_sequence_length, source_vocab_size, encoding_embedding_size)`.\n",
    "- Process target data using your `process_decoder_input(target_data, target_vocab_to_int, batch_size)` function.\n",
    "- Apply embedding to the target data for the decoder.\n",
    "- Decode the encoded input using your `decoding_layer(dec_input, enc_state, target_sequence_length, max_target_sentence_length, rnn_size, num_layers, target_vocab_to_int, target_vocab_size, batch_size, keep_prob, dec_embedding_size)` function."
   ]
  },
  {
   "cell_type": "code",
   "execution_count": 63,
   "metadata": {
    "collapsed": false
   },
   "outputs": [
    {
     "name": "stdout",
     "output_type": "stream",
     "text": [
      "Tests Passed\n"
     ]
    }
   ],
   "source": [
    "def seq2seq_model(input_data, target_data, keep_prob, batch_size,\n",
    "                  source_sequence_length, target_sequence_length,\n",
    "                  max_target_sentence_length,\n",
    "                  source_vocab_size, target_vocab_size,\n",
    "                  enc_embedding_size, dec_embedding_size,\n",
    "                  rnn_size, num_layers, target_vocab_to_int):\n",
    "    \"\"\"\n",
    "    Build the Sequence-to-Sequence part of the neural network\n",
    "    :param input_data: Input placeholder\n",
    "    :param target_data: Target placeholder\n",
    "    :param keep_prob: Dropout keep probability placeholder\n",
    "    :param batch_size: Batch Size\n",
    "    :param source_sequence_length: Sequence Lengths of source sequences in the batch\n",
    "    :param target_sequence_length: Sequence Lengths of target sequences in the batch\n",
    "    :param source_vocab_size: Source vocabulary size\n",
    "    :param target_vocab_size: Target vocabulary size\n",
    "    :param enc_embedding_size: Decoder embedding size\n",
    "    :param dec_embedding_size: Encoder embedding size\n",
    "    :param rnn_size: RNN Size\n",
    "    :param num_layers: Number of layers\n",
    "    :param target_vocab_to_int: Dictionary to go from the target words to an id\n",
    "    :return: Tuple of (Training BasicDecoderOutput, Inference BasicDecoderOutput)\n",
    "    \"\"\"\n",
    "    _, encoding_state = encoding_layer(input_data, rnn_size, num_layers, keep_prob, \n",
    "                   source_sequence_length, source_vocab_size, \n",
    "                   enc_embedding_size)\n",
    "        \n",
    "    decoder_input = process_decoder_input(target_data, target_vocab_to_int, batch_size)\n",
    "    \n",
    "    return(decoding_layer(decoder_input, encoding_state, target_sequence_length, max_target_sentence_length, rnn_size, num_layers, target_vocab_to_int, target_vocab_size, batch_size, keep_prob, dec_embedding_size))\n",
    "    \n",
    "\n",
    "\n",
    "\"\"\"\n",
    "DON'T MODIFY ANYTHING IN THIS CELL THAT IS BELOW THIS LINE\n",
    "\"\"\"\n",
    "tests.test_seq2seq_model(seq2seq_model)"
   ]
  },
  {
   "cell_type": "markdown",
   "metadata": {},
   "source": [
    "## Neural Network Training\n",
    "### Hyperparameters\n",
    "Tune the following parameters:\n",
    "\n",
    "- Set `epochs` to the number of epochs.\n",
    "- Set `batch_size` to the batch size.\n",
    "- Set `rnn_size` to the size of the RNNs.\n",
    "- Set `num_layers` to the number of layers.\n",
    "- Set `encoding_embedding_size` to the size of the embedding for the encoder.\n",
    "- Set `decoding_embedding_size` to the size of the embedding for the decoder.\n",
    "- Set `learning_rate` to the learning rate.\n",
    "- Set `keep_probability` to the Dropout keep probability\n",
    "- Set `display_step` to state how many steps between each debug output statement"
   ]
  },
  {
   "cell_type": "code",
   "execution_count": 93,
   "metadata": {
    "collapsed": true
   },
   "outputs": [],
   "source": [
    "# Number of Epochs\n",
    "epochs = 50\n",
    "# Batch Size\n",
    "batch_size = 2000\n",
    "# RNN Size\n",
    "rnn_size = 256\n",
    "# Number of Layers\n",
    "num_layers = 2\n",
    "# Embedding Size\n",
    "encoding_embedding_size = 20\n",
    "decoding_embedding_size = 20\n",
    "# Learning Rate\n",
    "learning_rate = 0.01\n",
    "# Dropout Keep Probability\n",
    "keep_probability = 0.5\n",
    "display_step = 10"
   ]
  },
  {
   "cell_type": "markdown",
   "metadata": {},
   "source": [
    "### Build the Graph\n",
    "Build the graph using the neural network you implemented."
   ]
  },
  {
   "cell_type": "code",
   "execution_count": 94,
   "metadata": {
    "collapsed": false
   },
   "outputs": [],
   "source": [
    "\"\"\"\n",
    "DON'T MODIFY ANYTHING IN THIS CELL\n",
    "\"\"\"\n",
    "save_path = 'checkpoints/dev'\n",
    "(source_int_text, target_int_text), (source_vocab_to_int, target_vocab_to_int), _ = helper.load_preprocess()\n",
    "max_target_sentence_length = max([len(sentence) for sentence in source_int_text])\n",
    "\n",
    "train_graph = tf.Graph()\n",
    "with train_graph.as_default():\n",
    "    input_data, targets, lr, keep_prob, target_sequence_length, max_target_sequence_length, source_sequence_length = model_inputs()\n",
    "    \n",
    "    #sequence_length = tf.placeholder_with_default(max_target_sentence_length, None, name='sequence_length')\n",
    "    input_shape = tf.shape(input_data)\n",
    "\n",
    "    train_logits, inference_logits = seq2seq_model(tf.reverse(input_data, [-1]),\n",
    "                                                   targets,\n",
    "                                                   keep_prob,\n",
    "                                                   batch_size,\n",
    "                                                   source_sequence_length,\n",
    "                                                   target_sequence_length,\n",
    "                                                   max_target_sequence_length,\n",
    "                                                   len(source_vocab_to_int),\n",
    "                                                   len(target_vocab_to_int),\n",
    "                                                   encoding_embedding_size,\n",
    "                                                   decoding_embedding_size,\n",
    "                                                   rnn_size,\n",
    "                                                   num_layers,\n",
    "                                                   target_vocab_to_int)\n",
    "\n",
    "\n",
    "    training_logits = tf.identity(train_logits.rnn_output, name='logits')\n",
    "    inference_logits = tf.identity(inference_logits.sample_id, name='predictions')\n",
    "\n",
    "    masks = tf.sequence_mask(target_sequence_length, max_target_sequence_length, dtype=tf.float32, name='masks')\n",
    "\n",
    "    with tf.name_scope(\"optimization\"):\n",
    "        # Loss function\n",
    "        cost = tf.contrib.seq2seq.sequence_loss(\n",
    "            training_logits,\n",
    "            targets,\n",
    "            masks)\n",
    "\n",
    "        # Optimizer\n",
    "        optimizer = tf.train.AdamOptimizer(lr)\n",
    "\n",
    "        # Gradient Clipping\n",
    "        gradients = optimizer.compute_gradients(cost)\n",
    "        capped_gradients = [(tf.clip_by_value(grad, -1., 1.), var) for grad, var in gradients if grad is not None]\n",
    "        train_op = optimizer.apply_gradients(capped_gradients)\n"
   ]
  },
  {
   "cell_type": "markdown",
   "metadata": {},
   "source": [
    "Batch and pad the source and target sequences"
   ]
  },
  {
   "cell_type": "code",
   "execution_count": 95,
   "metadata": {
    "collapsed": true
   },
   "outputs": [],
   "source": [
    "\"\"\"\n",
    "DON'T MODIFY ANYTHING IN THIS CELL\n",
    "\"\"\"\n",
    "def pad_sentence_batch(sentence_batch, pad_int):\n",
    "    \"\"\"Pad sentences with <PAD> so that each sentence of a batch has the same length\"\"\"\n",
    "    max_sentence = max([len(sentence) for sentence in sentence_batch])\n",
    "    return [sentence + [pad_int] * (max_sentence - len(sentence)) for sentence in sentence_batch]\n",
    "\n",
    "\n",
    "def get_batches(sources, targets, batch_size, source_pad_int, target_pad_int):\n",
    "    \"\"\"Batch targets, sources, and the lengths of their sentences together\"\"\"\n",
    "    for batch_i in range(0, len(sources)//batch_size):\n",
    "        start_i = batch_i * batch_size\n",
    "\n",
    "        # Slice the right amount for the batch\n",
    "        sources_batch = sources[start_i:start_i + batch_size]\n",
    "        targets_batch = targets[start_i:start_i + batch_size]\n",
    "\n",
    "        # Pad\n",
    "        pad_sources_batch = np.array(pad_sentence_batch(sources_batch, source_pad_int))\n",
    "        pad_targets_batch = np.array(pad_sentence_batch(targets_batch, target_pad_int))\n",
    "\n",
    "        # Need the lengths for the _lengths parameters\n",
    "        pad_targets_lengths = []\n",
    "        for target in pad_targets_batch:\n",
    "            pad_targets_lengths.append(len(target))\n",
    "\n",
    "        pad_source_lengths = []\n",
    "        for source in pad_sources_batch:\n",
    "            pad_source_lengths.append(len(source))\n",
    "\n",
    "        yield pad_sources_batch, pad_targets_batch, pad_source_lengths, pad_targets_lengths\n"
   ]
  },
  {
   "cell_type": "markdown",
   "metadata": {},
   "source": [
    "### Train\n",
    "Train the neural network on the preprocessed data. If you have a hard time getting a good loss, check the forms to see if anyone is having the same problem."
   ]
  },
  {
   "cell_type": "code",
   "execution_count": 96,
   "metadata": {
    "collapsed": false,
    "scrolled": true
   },
   "outputs": [
    {
     "name": "stdout",
     "output_type": "stream",
     "text": [
      "Epoch   0 Batch   10/68 - Train Accuracy: 0.3671, Validation Accuracy: 0.3624, Loss: 3.2130\n",
      "Epoch   0 Batch   20/68 - Train Accuracy: 0.4194, Validation Accuracy: 0.4417, Loss: 2.6710\n",
      "Epoch   0 Batch   30/68 - Train Accuracy: 0.4517, Validation Accuracy: 0.4746, Loss: 2.3568\n",
      "Epoch   0 Batch   40/68 - Train Accuracy: 0.4432, Validation Accuracy: 0.4690, Loss: 2.0948\n",
      "Epoch   0 Batch   50/68 - Train Accuracy: 0.4263, Validation Accuracy: 0.4515, Loss: 1.8574\n",
      "Epoch   0 Batch   60/68 - Train Accuracy: 0.4967, Validation Accuracy: 0.4706, Loss: 1.4950\n",
      "Epoch   1 Batch   10/68 - Train Accuracy: 0.4472, Validation Accuracy: 0.4430, Loss: 1.3438\n",
      "Epoch   1 Batch   20/68 - Train Accuracy: 0.4523, Validation Accuracy: 0.4673, Loss: 1.2485\n",
      "Epoch   1 Batch   30/68 - Train Accuracy: 0.4416, Validation Accuracy: 0.4622, Loss: 1.1150\n",
      "Epoch   1 Batch   40/68 - Train Accuracy: 0.4794, Validation Accuracy: 0.5026, Loss: 1.0367\n",
      "Epoch   1 Batch   50/68 - Train Accuracy: 0.4787, Validation Accuracy: 0.4993, Loss: 0.9652\n",
      "Epoch   1 Batch   60/68 - Train Accuracy: 0.5451, Validation Accuracy: 0.5133, Loss: 0.8125\n",
      "Epoch   2 Batch   10/68 - Train Accuracy: 0.5454, Validation Accuracy: 0.5308, Loss: 0.7714\n",
      "Epoch   2 Batch   20/68 - Train Accuracy: 0.5409, Validation Accuracy: 0.5529, Loss: 0.7647\n",
      "Epoch   2 Batch   30/68 - Train Accuracy: 0.4888, Validation Accuracy: 0.5011, Loss: 0.7628\n",
      "Epoch   2 Batch   40/68 - Train Accuracy: 0.5557, Validation Accuracy: 0.5728, Loss: 0.7469\n",
      "Epoch   2 Batch   50/68 - Train Accuracy: 0.5751, Validation Accuracy: 0.5932, Loss: 0.7167\n",
      "Epoch   2 Batch   60/68 - Train Accuracy: 0.6205, Validation Accuracy: 0.5944, Loss: 0.6182\n",
      "Epoch   3 Batch   10/68 - Train Accuracy: 0.6113, Validation Accuracy: 0.6030, Loss: 0.6240\n",
      "Epoch   3 Batch   20/68 - Train Accuracy: 0.6152, Validation Accuracy: 0.6182, Loss: 0.6416\n",
      "Epoch   3 Batch   30/68 - Train Accuracy: 0.6180, Validation Accuracy: 0.6251, Loss: 0.6255\n",
      "Epoch   3 Batch   40/68 - Train Accuracy: 0.6200, Validation Accuracy: 0.6316, Loss: 0.6169\n",
      "Epoch   3 Batch   50/68 - Train Accuracy: 0.6234, Validation Accuracy: 0.6314, Loss: 0.6008\n",
      "Epoch   3 Batch   60/68 - Train Accuracy: 0.6637, Validation Accuracy: 0.6386, Loss: 0.5284\n",
      "Epoch   4 Batch   10/68 - Train Accuracy: 0.6612, Validation Accuracy: 0.6505, Loss: 0.5388\n",
      "Epoch   4 Batch   20/68 - Train Accuracy: 0.6256, Validation Accuracy: 0.6232, Loss: 0.6434\n",
      "Epoch   4 Batch   30/68 - Train Accuracy: 0.6405, Validation Accuracy: 0.6468, Loss: 0.5636\n",
      "Epoch   4 Batch   40/68 - Train Accuracy: 0.6462, Validation Accuracy: 0.6543, Loss: 0.5412\n",
      "Epoch   4 Batch   50/68 - Train Accuracy: 0.6549, Validation Accuracy: 0.6637, Loss: 0.5255\n",
      "Epoch   4 Batch   60/68 - Train Accuracy: 0.6989, Validation Accuracy: 0.6734, Loss: 0.4549\n",
      "Epoch   5 Batch   10/68 - Train Accuracy: 0.6963, Validation Accuracy: 0.6873, Loss: 0.4595\n",
      "Epoch   5 Batch   20/68 - Train Accuracy: 0.6934, Validation Accuracy: 0.6934, Loss: 0.4702\n",
      "Epoch   5 Batch   30/68 - Train Accuracy: 0.6878, Validation Accuracy: 0.6985, Loss: 0.4548\n",
      "Epoch   5 Batch   40/68 - Train Accuracy: 0.6937, Validation Accuracy: 0.7012, Loss: 0.4490\n",
      "Epoch   5 Batch   50/68 - Train Accuracy: 0.7019, Validation Accuracy: 0.7124, Loss: 0.4327\n",
      "Epoch   5 Batch   60/68 - Train Accuracy: 0.7410, Validation Accuracy: 0.7194, Loss: 0.3723\n",
      "Epoch   6 Batch   10/68 - Train Accuracy: 0.7346, Validation Accuracy: 0.7319, Loss: 0.3785\n",
      "Epoch   6 Batch   20/68 - Train Accuracy: 0.7348, Validation Accuracy: 0.7349, Loss: 0.3867\n",
      "Epoch   6 Batch   30/68 - Train Accuracy: 0.7302, Validation Accuracy: 0.7369, Loss: 0.3772\n",
      "Epoch   6 Batch   40/68 - Train Accuracy: 0.7254, Validation Accuracy: 0.7428, Loss: 0.3787\n",
      "Epoch   6 Batch   50/68 - Train Accuracy: 0.7407, Validation Accuracy: 0.7549, Loss: 0.3587\n",
      "Epoch   6 Batch   60/68 - Train Accuracy: 0.7494, Validation Accuracy: 0.7334, Loss: 0.3855\n",
      "Epoch   7 Batch   10/68 - Train Accuracy: 0.7469, Validation Accuracy: 0.7422, Loss: 0.3391\n",
      "Epoch   7 Batch   20/68 - Train Accuracy: 0.7530, Validation Accuracy: 0.7595, Loss: 0.3379\n",
      "Epoch   7 Batch   30/68 - Train Accuracy: 0.7487, Validation Accuracy: 0.7597, Loss: 0.3238\n",
      "Epoch   7 Batch   40/68 - Train Accuracy: 0.7677, Validation Accuracy: 0.7716, Loss: 0.3141\n",
      "Epoch   7 Batch   50/68 - Train Accuracy: 0.7585, Validation Accuracy: 0.7653, Loss: 0.3084\n",
      "Epoch   7 Batch   60/68 - Train Accuracy: 0.7919, Validation Accuracy: 0.7811, Loss: 0.2660\n",
      "Epoch   8 Batch   10/68 - Train Accuracy: 0.7818, Validation Accuracy: 0.7758, Loss: 0.2726\n",
      "Epoch   8 Batch   20/68 - Train Accuracy: 0.7916, Validation Accuracy: 0.7943, Loss: 0.2726\n",
      "Epoch   8 Batch   30/68 - Train Accuracy: 0.7975, Validation Accuracy: 0.7999, Loss: 0.2622\n",
      "Epoch   8 Batch   40/68 - Train Accuracy: 0.7861, Validation Accuracy: 0.7893, Loss: 0.2619\n",
      "Epoch   8 Batch   50/68 - Train Accuracy: 0.7941, Validation Accuracy: 0.8046, Loss: 0.2412\n",
      "Epoch   8 Batch   60/68 - Train Accuracy: 0.8270, Validation Accuracy: 0.8153, Loss: 0.1976\n",
      "Epoch   9 Batch   10/68 - Train Accuracy: 0.8219, Validation Accuracy: 0.8170, Loss: 0.2018\n",
      "Epoch   9 Batch   20/68 - Train Accuracy: 0.8130, Validation Accuracy: 0.8238, Loss: 0.2059\n",
      "Epoch   9 Batch   30/68 - Train Accuracy: 0.8286, Validation Accuracy: 0.8314, Loss: 0.1976\n",
      "Epoch   9 Batch   40/68 - Train Accuracy: 0.8364, Validation Accuracy: 0.8320, Loss: 0.1908\n",
      "Epoch   9 Batch   50/68 - Train Accuracy: 0.8228, Validation Accuracy: 0.8260, Loss: 0.1877\n",
      "Epoch   9 Batch   60/68 - Train Accuracy: 0.8504, Validation Accuracy: 0.8343, Loss: 0.1635\n",
      "Epoch  10 Batch   10/68 - Train Accuracy: 0.8482, Validation Accuracy: 0.8444, Loss: 0.1664\n",
      "Epoch  10 Batch   20/68 - Train Accuracy: 0.8471, Validation Accuracy: 0.8490, Loss: 0.1686\n",
      "Epoch  10 Batch   30/68 - Train Accuracy: 0.8393, Validation Accuracy: 0.8510, Loss: 0.1802\n",
      "Epoch  10 Batch   40/68 - Train Accuracy: 0.8416, Validation Accuracy: 0.8409, Loss: 0.1621\n",
      "Epoch  10 Batch   50/68 - Train Accuracy: 0.8507, Validation Accuracy: 0.8511, Loss: 0.1506\n",
      "Epoch  10 Batch   60/68 - Train Accuracy: 0.8681, Validation Accuracy: 0.8595, Loss: 0.1278\n",
      "Epoch  11 Batch   10/68 - Train Accuracy: 0.8759, Validation Accuracy: 0.8685, Loss: 0.1310\n",
      "Epoch  11 Batch   20/68 - Train Accuracy: 0.8610, Validation Accuracy: 0.8645, Loss: 0.1383\n",
      "Epoch  11 Batch   30/68 - Train Accuracy: 0.8652, Validation Accuracy: 0.8637, Loss: 0.1291\n",
      "Epoch  11 Batch   40/68 - Train Accuracy: 0.8726, Validation Accuracy: 0.8715, Loss: 0.1205\n",
      "Epoch  11 Batch   50/68 - Train Accuracy: 0.8763, Validation Accuracy: 0.8783, Loss: 0.1179\n",
      "Epoch  11 Batch   60/68 - Train Accuracy: 0.8875, Validation Accuracy: 0.8739, Loss: 0.1001\n",
      "Epoch  12 Batch   10/68 - Train Accuracy: 0.8910, Validation Accuracy: 0.8867, Loss: 0.1162\n",
      "Epoch  12 Batch   20/68 - Train Accuracy: 0.8791, Validation Accuracy: 0.8854, Loss: 0.1157\n",
      "Epoch  12 Batch   30/68 - Train Accuracy: 0.8942, Validation Accuracy: 0.9006, Loss: 0.1062\n",
      "Epoch  12 Batch   40/68 - Train Accuracy: 0.8967, Validation Accuracy: 0.8983, Loss: 0.1010\n",
      "Epoch  12 Batch   50/68 - Train Accuracy: 0.9021, Validation Accuracy: 0.9022, Loss: 0.0964\n",
      "Epoch  12 Batch   60/68 - Train Accuracy: 0.9152, Validation Accuracy: 0.9056, Loss: 0.0819\n",
      "Epoch  13 Batch   10/68 - Train Accuracy: 0.9163, Validation Accuracy: 0.9100, Loss: 0.0876\n",
      "Epoch  13 Batch   20/68 - Train Accuracy: 0.9019, Validation Accuracy: 0.9103, Loss: 0.1043\n",
      "Epoch  13 Batch   30/68 - Train Accuracy: 0.9140, Validation Accuracy: 0.9135, Loss: 0.0900\n",
      "Epoch  13 Batch   40/68 - Train Accuracy: 0.9242, Validation Accuracy: 0.9222, Loss: 0.0811\n",
      "Epoch  13 Batch   50/68 - Train Accuracy: 0.9281, Validation Accuracy: 0.9262, Loss: 0.0750\n",
      "Epoch  13 Batch   60/68 - Train Accuracy: 0.9393, Validation Accuracy: 0.9297, Loss: 0.0626\n",
      "Epoch  14 Batch   10/68 - Train Accuracy: 0.9450, Validation Accuracy: 0.9441, Loss: 0.0618\n",
      "Epoch  14 Batch   20/68 - Train Accuracy: 0.9349, Validation Accuracy: 0.9417, Loss: 0.0636\n",
      "Epoch  14 Batch   30/68 - Train Accuracy: 0.9450, Validation Accuracy: 0.9479, Loss: 0.0570\n",
      "Epoch  14 Batch   40/68 - Train Accuracy: 0.9492, Validation Accuracy: 0.9524, Loss: 0.0531\n",
      "Epoch  14 Batch   50/68 - Train Accuracy: 0.9480, Validation Accuracy: 0.9447, Loss: 0.0574\n",
      "Epoch  14 Batch   60/68 - Train Accuracy: 0.9542, Validation Accuracy: 0.9482, Loss: 0.0475\n",
      "Epoch  15 Batch   10/68 - Train Accuracy: 0.9489, Validation Accuracy: 0.9417, Loss: 0.0524\n",
      "Epoch  15 Batch   20/68 - Train Accuracy: 0.9395, Validation Accuracy: 0.9443, Loss: 0.0499\n",
      "Epoch  15 Batch   30/68 - Train Accuracy: 0.9450, Validation Accuracy: 0.9461, Loss: 0.0432\n",
      "Epoch  15 Batch   40/68 - Train Accuracy: 0.9511, Validation Accuracy: 0.9553, Loss: 0.0441\n",
      "Epoch  15 Batch   50/68 - Train Accuracy: 0.9595, Validation Accuracy: 0.9555, Loss: 0.0400\n",
      "Epoch  15 Batch   60/68 - Train Accuracy: 0.9644, Validation Accuracy: 0.9578, Loss: 0.0345\n",
      "Epoch  16 Batch   10/68 - Train Accuracy: 0.9593, Validation Accuracy: 0.9593, Loss: 0.0367\n",
      "Epoch  16 Batch   20/68 - Train Accuracy: 0.9521, Validation Accuracy: 0.9553, Loss: 0.0388\n",
      "Epoch  16 Batch   30/68 - Train Accuracy: 0.9514, Validation Accuracy: 0.9595, Loss: 0.0343\n",
      "Epoch  16 Batch   40/68 - Train Accuracy: 0.9654, Validation Accuracy: 0.9687, Loss: 0.0352\n",
      "Epoch  16 Batch   50/68 - Train Accuracy: 0.9650, Validation Accuracy: 0.9627, Loss: 0.0329\n",
      "Epoch  16 Batch   60/68 - Train Accuracy: 0.9671, Validation Accuracy: 0.9631, Loss: 0.0299\n",
      "Epoch  17 Batch   10/68 - Train Accuracy: 0.9679, Validation Accuracy: 0.9633, Loss: 0.0305\n",
      "Epoch  17 Batch   20/68 - Train Accuracy: 0.9630, Validation Accuracy: 0.9643, Loss: 0.0334\n",
      "Epoch  17 Batch   30/68 - Train Accuracy: 0.9594, Validation Accuracy: 0.9645, Loss: 0.0300\n",
      "Epoch  17 Batch   40/68 - Train Accuracy: 0.9670, Validation Accuracy: 0.9643, Loss: 0.0294\n",
      "Epoch  17 Batch   50/68 - Train Accuracy: 0.9701, Validation Accuracy: 0.9671, Loss: 0.0302\n",
      "Epoch  17 Batch   60/68 - Train Accuracy: 0.9736, Validation Accuracy: 0.9639, Loss: 0.0254\n",
      "Epoch  18 Batch   10/68 - Train Accuracy: 0.9727, Validation Accuracy: 0.9667, Loss: 0.0261\n",
      "Epoch  18 Batch   20/68 - Train Accuracy: 0.9654, Validation Accuracy: 0.9655, Loss: 0.0288\n",
      "Epoch  18 Batch   30/68 - Train Accuracy: 0.9655, Validation Accuracy: 0.9680, Loss: 0.0266\n",
      "Epoch  18 Batch   40/68 - Train Accuracy: 0.9708, Validation Accuracy: 0.9669, Loss: 0.0261\n",
      "Epoch  18 Batch   50/68 - Train Accuracy: 0.9734, Validation Accuracy: 0.9688, Loss: 0.0252\n",
      "Epoch  18 Batch   60/68 - Train Accuracy: 0.9762, Validation Accuracy: 0.9704, Loss: 0.0225\n",
      "Epoch  19 Batch   10/68 - Train Accuracy: 0.9742, Validation Accuracy: 0.9719, Loss: 0.0239\n",
      "Epoch  19 Batch   20/68 - Train Accuracy: 0.9702, Validation Accuracy: 0.9694, Loss: 0.0261\n",
      "Epoch  19 Batch   30/68 - Train Accuracy: 0.9698, Validation Accuracy: 0.9695, Loss: 0.0238\n",
      "Epoch  19 Batch   40/68 - Train Accuracy: 0.9755, Validation Accuracy: 0.9736, Loss: 0.0244\n",
      "Epoch  19 Batch   50/68 - Train Accuracy: 0.9769, Validation Accuracy: 0.9702, Loss: 0.0243\n",
      "Epoch  19 Batch   60/68 - Train Accuracy: 0.9808, Validation Accuracy: 0.9704, Loss: 0.0201\n",
      "Epoch  20 Batch   10/68 - Train Accuracy: 0.9772, Validation Accuracy: 0.9736, Loss: 0.0224\n",
      "Epoch  20 Batch   20/68 - Train Accuracy: 0.9718, Validation Accuracy: 0.9727, Loss: 0.0241\n",
      "Epoch  20 Batch   30/68 - Train Accuracy: 0.9730, Validation Accuracy: 0.9741, Loss: 0.0233\n",
      "Epoch  20 Batch   40/68 - Train Accuracy: 0.9783, Validation Accuracy: 0.9732, Loss: 0.0218\n",
      "Epoch  20 Batch   50/68 - Train Accuracy: 0.9797, Validation Accuracy: 0.9714, Loss: 0.0217\n",
      "Epoch  20 Batch   60/68 - Train Accuracy: 0.9816, Validation Accuracy: 0.9761, Loss: 0.0191\n",
      "Epoch  21 Batch   10/68 - Train Accuracy: 0.9786, Validation Accuracy: 0.9750, Loss: 0.0209\n",
      "Epoch  21 Batch   20/68 - Train Accuracy: 0.9748, Validation Accuracy: 0.9714, Loss: 0.0203\n",
      "Epoch  21 Batch   30/68 - Train Accuracy: 0.9708, Validation Accuracy: 0.9735, Loss: 0.0209\n",
      "Epoch  21 Batch   40/68 - Train Accuracy: 0.9804, Validation Accuracy: 0.9773, Loss: 0.0200\n",
      "Epoch  21 Batch   50/68 - Train Accuracy: 0.9825, Validation Accuracy: 0.9776, Loss: 0.0209\n",
      "Epoch  21 Batch   60/68 - Train Accuracy: 0.9834, Validation Accuracy: 0.9785, Loss: 0.0167\n",
      "Epoch  22 Batch   10/68 - Train Accuracy: 0.9785, Validation Accuracy: 0.9732, Loss: 0.0192\n",
      "Epoch  22 Batch   20/68 - Train Accuracy: 0.9770, Validation Accuracy: 0.9732, Loss: 0.0200\n",
      "Epoch  22 Batch   30/68 - Train Accuracy: 0.9778, Validation Accuracy: 0.9811, Loss: 0.0197\n",
      "Epoch  22 Batch   40/68 - Train Accuracy: 0.9816, Validation Accuracy: 0.9785, Loss: 0.0186\n",
      "Epoch  22 Batch   50/68 - Train Accuracy: 0.9832, Validation Accuracy: 0.9788, Loss: 0.0174\n",
      "Epoch  22 Batch   60/68 - Train Accuracy: 0.9843, Validation Accuracy: 0.9798, Loss: 0.0154\n",
      "Epoch  23 Batch   10/68 - Train Accuracy: 0.9810, Validation Accuracy: 0.9787, Loss: 0.0160\n",
      "Epoch  23 Batch   20/68 - Train Accuracy: 0.9803, Validation Accuracy: 0.9773, Loss: 0.0171\n",
      "Epoch  23 Batch   30/68 - Train Accuracy: 0.9758, Validation Accuracy: 0.9808, Loss: 0.0175\n",
      "Epoch  23 Batch   40/68 - Train Accuracy: 0.9833, Validation Accuracy: 0.9762, Loss: 0.0170\n",
      "Epoch  23 Batch   50/68 - Train Accuracy: 0.9858, Validation Accuracy: 0.9795, Loss: 0.0171\n",
      "Epoch  23 Batch   60/68 - Train Accuracy: 0.9859, Validation Accuracy: 0.9785, Loss: 0.0154\n",
      "Epoch  24 Batch   10/68 - Train Accuracy: 0.9832, Validation Accuracy: 0.9812, Loss: 0.0156\n",
      "Epoch  24 Batch   20/68 - Train Accuracy: 0.9802, Validation Accuracy: 0.9772, Loss: 0.0162\n",
      "Epoch  24 Batch   30/68 - Train Accuracy: 0.9790, Validation Accuracy: 0.9801, Loss: 0.0173\n",
      "Epoch  24 Batch   40/68 - Train Accuracy: 0.9844, Validation Accuracy: 0.9816, Loss: 0.0164\n",
      "Epoch  24 Batch   50/68 - Train Accuracy: 0.9875, Validation Accuracy: 0.9818, Loss: 0.0145\n",
      "Epoch  24 Batch   60/68 - Train Accuracy: 0.9861, Validation Accuracy: 0.9813, Loss: 0.0145\n",
      "Epoch  25 Batch   10/68 - Train Accuracy: 0.9828, Validation Accuracy: 0.9780, Loss: 0.0144\n",
      "Epoch  25 Batch   20/68 - Train Accuracy: 0.9814, Validation Accuracy: 0.9783, Loss: 0.0171\n",
      "Epoch  25 Batch   30/68 - Train Accuracy: 0.9825, Validation Accuracy: 0.9804, Loss: 0.0173\n",
      "Epoch  25 Batch   40/68 - Train Accuracy: 0.9842, Validation Accuracy: 0.9778, Loss: 0.0168\n",
      "Epoch  25 Batch   50/68 - Train Accuracy: 0.9859, Validation Accuracy: 0.9784, Loss: 0.0149\n",
      "Epoch  25 Batch   60/68 - Train Accuracy: 0.9854, Validation Accuracy: 0.9794, Loss: 0.0146\n",
      "Epoch  26 Batch   10/68 - Train Accuracy: 0.9848, Validation Accuracy: 0.9816, Loss: 0.0140\n",
      "Epoch  26 Batch   20/68 - Train Accuracy: 0.9842, Validation Accuracy: 0.9812, Loss: 0.0142\n",
      "Epoch  26 Batch   30/68 - Train Accuracy: 0.9792, Validation Accuracy: 0.9792, Loss: 0.0170\n",
      "Epoch  26 Batch   40/68 - Train Accuracy: 0.9872, Validation Accuracy: 0.9791, Loss: 0.0144\n",
      "Epoch  26 Batch   50/68 - Train Accuracy: 0.9864, Validation Accuracy: 0.9781, Loss: 0.0138\n",
      "Epoch  26 Batch   60/68 - Train Accuracy: 0.9862, Validation Accuracy: 0.9802, Loss: 0.0136\n",
      "Epoch  27 Batch   10/68 - Train Accuracy: 0.9858, Validation Accuracy: 0.9823, Loss: 0.0130\n",
      "Epoch  27 Batch   20/68 - Train Accuracy: 0.9855, Validation Accuracy: 0.9795, Loss: 0.0140\n",
      "Epoch  27 Batch   30/68 - Train Accuracy: 0.9828, Validation Accuracy: 0.9815, Loss: 0.0143\n",
      "Epoch  27 Batch   40/68 - Train Accuracy: 0.9875, Validation Accuracy: 0.9808, Loss: 0.0118\n",
      "Epoch  27 Batch   50/68 - Train Accuracy: 0.9877, Validation Accuracy: 0.9786, Loss: 0.0134\n",
      "Epoch  27 Batch   60/68 - Train Accuracy: 0.9878, Validation Accuracy: 0.9828, Loss: 0.0123\n",
      "Epoch  28 Batch   10/68 - Train Accuracy: 0.9878, Validation Accuracy: 0.9791, Loss: 0.0126\n",
      "Epoch  28 Batch   20/68 - Train Accuracy: 0.9877, Validation Accuracy: 0.9806, Loss: 0.0142\n",
      "Epoch  28 Batch   30/68 - Train Accuracy: 0.9824, Validation Accuracy: 0.9807, Loss: 0.0117\n",
      "Epoch  28 Batch   40/68 - Train Accuracy: 0.9881, Validation Accuracy: 0.9822, Loss: 0.0128\n",
      "Epoch  28 Batch   50/68 - Train Accuracy: 0.9908, Validation Accuracy: 0.9817, Loss: 0.0119\n",
      "Epoch  28 Batch   60/68 - Train Accuracy: 0.9872, Validation Accuracy: 0.9822, Loss: 0.0118\n",
      "Epoch  29 Batch   10/68 - Train Accuracy: 0.9865, Validation Accuracy: 0.9819, Loss: 0.0110\n",
      "Epoch  29 Batch   20/68 - Train Accuracy: 0.9886, Validation Accuracy: 0.9808, Loss: 0.0126\n",
      "Epoch  29 Batch   30/68 - Train Accuracy: 0.9825, Validation Accuracy: 0.9820, Loss: 0.0141\n",
      "Epoch  29 Batch   40/68 - Train Accuracy: 0.9855, Validation Accuracy: 0.9807, Loss: 0.0107\n",
      "Epoch  29 Batch   50/68 - Train Accuracy: 0.9883, Validation Accuracy: 0.9821, Loss: 0.0113\n",
      "Epoch  29 Batch   60/68 - Train Accuracy: 0.9891, Validation Accuracy: 0.9836, Loss: 0.0115\n",
      "Epoch  30 Batch   10/68 - Train Accuracy: 0.9892, Validation Accuracy: 0.9826, Loss: 0.0104\n",
      "Epoch  30 Batch   20/68 - Train Accuracy: 0.9883, Validation Accuracy: 0.9829, Loss: 0.0135\n",
      "Epoch  30 Batch   30/68 - Train Accuracy: 0.9857, Validation Accuracy: 0.9841, Loss: 0.0115\n",
      "Epoch  30 Batch   40/68 - Train Accuracy: 0.9899, Validation Accuracy: 0.9831, Loss: 0.0119\n",
      "Epoch  30 Batch   50/68 - Train Accuracy: 0.9911, Validation Accuracy: 0.9836, Loss: 0.0108\n",
      "Epoch  30 Batch   60/68 - Train Accuracy: 0.9850, Validation Accuracy: 0.9808, Loss: 0.0097\n",
      "Epoch  31 Batch   10/68 - Train Accuracy: 0.9889, Validation Accuracy: 0.9805, Loss: 0.0106\n",
      "Epoch  31 Batch   20/68 - Train Accuracy: 0.9901, Validation Accuracy: 0.9813, Loss: 0.0109\n",
      "Epoch  31 Batch   30/68 - Train Accuracy: 0.9857, Validation Accuracy: 0.9831, Loss: 0.0115\n",
      "Epoch  31 Batch   40/68 - Train Accuracy: 0.9926, Validation Accuracy: 0.9837, Loss: 0.0119\n",
      "Epoch  31 Batch   50/68 - Train Accuracy: 0.9902, Validation Accuracy: 0.9825, Loss: 0.0104\n",
      "Epoch  31 Batch   60/68 - Train Accuracy: 0.9890, Validation Accuracy: 0.9825, Loss: 0.0097\n",
      "Epoch  32 Batch   10/68 - Train Accuracy: 0.9892, Validation Accuracy: 0.9829, Loss: 0.0097\n",
      "Epoch  32 Batch   20/68 - Train Accuracy: 0.9888, Validation Accuracy: 0.9836, Loss: 0.0115\n",
      "Epoch  32 Batch   30/68 - Train Accuracy: 0.9850, Validation Accuracy: 0.9805, Loss: 0.0119\n",
      "Epoch  32 Batch   40/68 - Train Accuracy: 0.9909, Validation Accuracy: 0.9821, Loss: 0.0124\n",
      "Epoch  32 Batch   50/68 - Train Accuracy: 0.9119, Validation Accuracy: 0.9111, Loss: 0.1335\n",
      "Epoch  32 Batch   60/68 - Train Accuracy: 0.9244, Validation Accuracy: 0.9118, Loss: 0.1139\n",
      "Epoch  33 Batch   10/68 - Train Accuracy: 0.9660, Validation Accuracy: 0.9657, Loss: 0.0504\n",
      "Epoch  33 Batch   20/68 - Train Accuracy: 0.9714, Validation Accuracy: 0.9728, Loss: 0.0406\n",
      "Epoch  33 Batch   30/68 - Train Accuracy: 0.9752, Validation Accuracy: 0.9752, Loss: 0.0323\n",
      "Epoch  33 Batch   40/68 - Train Accuracy: 0.9827, Validation Accuracy: 0.9785, Loss: 0.0274\n",
      "Epoch  33 Batch   50/68 - Train Accuracy: 0.9823, Validation Accuracy: 0.9776, Loss: 0.0233\n",
      "Epoch  33 Batch   60/68 - Train Accuracy: 0.9863, Validation Accuracy: 0.9799, Loss: 0.0185\n",
      "Epoch  34 Batch   10/68 - Train Accuracy: 0.9851, Validation Accuracy: 0.9783, Loss: 0.0191\n",
      "Epoch  34 Batch   20/68 - Train Accuracy: 0.9813, Validation Accuracy: 0.9795, Loss: 0.0168\n",
      "Epoch  34 Batch   30/68 - Train Accuracy: 0.9799, Validation Accuracy: 0.9823, Loss: 0.0172\n",
      "Epoch  34 Batch   40/68 - Train Accuracy: 0.9866, Validation Accuracy: 0.9812, Loss: 0.0154\n",
      "Epoch  34 Batch   50/68 - Train Accuracy: 0.9882, Validation Accuracy: 0.9810, Loss: 0.0154\n",
      "Epoch  34 Batch   60/68 - Train Accuracy: 0.9876, Validation Accuracy: 0.9798, Loss: 0.0137\n",
      "Epoch  35 Batch   10/68 - Train Accuracy: 0.9846, Validation Accuracy: 0.9816, Loss: 0.0147\n",
      "Epoch  35 Batch   20/68 - Train Accuracy: 0.9887, Validation Accuracy: 0.9834, Loss: 0.0144\n",
      "Epoch  35 Batch   30/68 - Train Accuracy: 0.9833, Validation Accuracy: 0.9808, Loss: 0.0153\n",
      "Epoch  35 Batch   40/68 - Train Accuracy: 0.9879, Validation Accuracy: 0.9826, Loss: 0.0120\n",
      "Epoch  35 Batch   50/68 - Train Accuracy: 0.9887, Validation Accuracy: 0.9807, Loss: 0.0123\n",
      "Epoch  35 Batch   60/68 - Train Accuracy: 0.9884, Validation Accuracy: 0.9822, Loss: 0.0118\n",
      "Epoch  36 Batch   10/68 - Train Accuracy: 0.9892, Validation Accuracy: 0.9849, Loss: 0.0108\n",
      "Epoch  36 Batch   20/68 - Train Accuracy: 0.9891, Validation Accuracy: 0.9843, Loss: 0.0124\n",
      "Epoch  36 Batch   30/68 - Train Accuracy: 0.9883, Validation Accuracy: 0.9860, Loss: 0.0117\n",
      "Epoch  36 Batch   40/68 - Train Accuracy: 0.9913, Validation Accuracy: 0.9810, Loss: 0.0106\n",
      "Epoch  36 Batch   50/68 - Train Accuracy: 0.9905, Validation Accuracy: 0.9822, Loss: 0.0098\n",
      "Epoch  36 Batch   60/68 - Train Accuracy: 0.9904, Validation Accuracy: 0.9819, Loss: 0.0092\n",
      "Epoch  37 Batch   10/68 - Train Accuracy: 0.9884, Validation Accuracy: 0.9828, Loss: 0.0110\n",
      "Epoch  37 Batch   20/68 - Train Accuracy: 0.9894, Validation Accuracy: 0.9832, Loss: 0.0110\n",
      "Epoch  37 Batch   30/68 - Train Accuracy: 0.9859, Validation Accuracy: 0.9840, Loss: 0.0122\n",
      "Epoch  37 Batch   40/68 - Train Accuracy: 0.9906, Validation Accuracy: 0.9841, Loss: 0.0097\n",
      "Epoch  37 Batch   50/68 - Train Accuracy: 0.9896, Validation Accuracy: 0.9826, Loss: 0.0096\n",
      "Epoch  37 Batch   60/68 - Train Accuracy: 0.9901, Validation Accuracy: 0.9834, Loss: 0.0089\n",
      "Epoch  38 Batch   10/68 - Train Accuracy: 0.9905, Validation Accuracy: 0.9839, Loss: 0.0091\n",
      "Epoch  38 Batch   20/68 - Train Accuracy: 0.9894, Validation Accuracy: 0.9829, Loss: 0.0098\n",
      "Epoch  38 Batch   30/68 - Train Accuracy: 0.9872, Validation Accuracy: 0.9834, Loss: 0.0101\n",
      "Epoch  38 Batch   40/68 - Train Accuracy: 0.9904, Validation Accuracy: 0.9832, Loss: 0.0092\n",
      "Epoch  38 Batch   50/68 - Train Accuracy: 0.9898, Validation Accuracy: 0.9822, Loss: 0.0092\n",
      "Epoch  38 Batch   60/68 - Train Accuracy: 0.9907, Validation Accuracy: 0.9840, Loss: 0.0081\n",
      "Epoch  39 Batch   10/68 - Train Accuracy: 0.9903, Validation Accuracy: 0.9831, Loss: 0.0079\n",
      "Epoch  39 Batch   20/68 - Train Accuracy: 0.9888, Validation Accuracy: 0.9818, Loss: 0.0089\n",
      "Epoch  39 Batch   30/68 - Train Accuracy: 0.9887, Validation Accuracy: 0.9823, Loss: 0.0095\n",
      "Epoch  39 Batch   40/68 - Train Accuracy: 0.9898, Validation Accuracy: 0.9841, Loss: 0.0081\n",
      "Epoch  39 Batch   50/68 - Train Accuracy: 0.9894, Validation Accuracy: 0.9824, Loss: 0.0089\n",
      "Epoch  39 Batch   60/68 - Train Accuracy: 0.9925, Validation Accuracy: 0.9821, Loss: 0.0080\n",
      "Epoch  40 Batch   10/68 - Train Accuracy: 0.9900, Validation Accuracy: 0.9858, Loss: 0.0086\n",
      "Epoch  40 Batch   20/68 - Train Accuracy: 0.9919, Validation Accuracy: 0.9863, Loss: 0.0091\n",
      "Epoch  40 Batch   30/68 - Train Accuracy: 0.9915, Validation Accuracy: 0.9866, Loss: 0.0073\n",
      "Epoch  40 Batch   40/68 - Train Accuracy: 0.9933, Validation Accuracy: 0.9828, Loss: 0.0073\n",
      "Epoch  40 Batch   50/68 - Train Accuracy: 0.9931, Validation Accuracy: 0.9855, Loss: 0.0069\n",
      "Epoch  40 Batch   60/68 - Train Accuracy: 0.9934, Validation Accuracy: 0.9832, Loss: 0.0072\n",
      "Epoch  41 Batch   10/68 - Train Accuracy: 0.9913, Validation Accuracy: 0.9834, Loss: 0.0081\n",
      "Epoch  41 Batch   20/68 - Train Accuracy: 0.9925, Validation Accuracy: 0.9845, Loss: 0.0083\n",
      "Epoch  41 Batch   30/68 - Train Accuracy: 0.9909, Validation Accuracy: 0.9849, Loss: 0.0078\n",
      "Epoch  41 Batch   40/68 - Train Accuracy: 0.9941, Validation Accuracy: 0.9846, Loss: 0.0077\n",
      "Epoch  41 Batch   50/68 - Train Accuracy: 0.9930, Validation Accuracy: 0.9830, Loss: 0.0074\n",
      "Epoch  41 Batch   60/68 - Train Accuracy: 0.9931, Validation Accuracy: 0.9838, Loss: 0.0070\n",
      "Epoch  42 Batch   10/68 - Train Accuracy: 0.9919, Validation Accuracy: 0.9814, Loss: 0.0075\n",
      "Epoch  42 Batch   20/68 - Train Accuracy: 0.9927, Validation Accuracy: 0.9804, Loss: 0.0081\n",
      "Epoch  42 Batch   30/68 - Train Accuracy: 0.9892, Validation Accuracy: 0.9843, Loss: 0.0085\n",
      "Epoch  42 Batch   40/68 - Train Accuracy: 0.9921, Validation Accuracy: 0.9829, Loss: 0.0068\n",
      "Epoch  42 Batch   50/68 - Train Accuracy: 0.9928, Validation Accuracy: 0.9831, Loss: 0.0064\n",
      "Epoch  42 Batch   60/68 - Train Accuracy: 0.9939, Validation Accuracy: 0.9854, Loss: 0.0062\n",
      "Epoch  43 Batch   10/68 - Train Accuracy: 0.9936, Validation Accuracy: 0.9844, Loss: 0.0064\n",
      "Epoch  43 Batch   20/68 - Train Accuracy: 0.9929, Validation Accuracy: 0.9843, Loss: 0.0077\n",
      "Epoch  43 Batch   30/68 - Train Accuracy: 0.9906, Validation Accuracy: 0.9849, Loss: 0.0081\n",
      "Epoch  43 Batch   40/68 - Train Accuracy: 0.9934, Validation Accuracy: 0.9841, Loss: 0.0062\n",
      "Epoch  43 Batch   50/68 - Train Accuracy: 0.9959, Validation Accuracy: 0.9873, Loss: 0.0063\n",
      "Epoch  43 Batch   60/68 - Train Accuracy: 0.9943, Validation Accuracy: 0.9848, Loss: 0.0060\n",
      "Epoch  44 Batch   10/68 - Train Accuracy: 0.9941, Validation Accuracy: 0.9858, Loss: 0.0067\n",
      "Epoch  44 Batch   20/68 - Train Accuracy: 0.9950, Validation Accuracy: 0.9835, Loss: 0.0077\n",
      "Epoch  44 Batch   30/68 - Train Accuracy: 0.9921, Validation Accuracy: 0.9832, Loss: 0.0068\n",
      "Epoch  44 Batch   40/68 - Train Accuracy: 0.9935, Validation Accuracy: 0.9829, Loss: 0.0062\n",
      "Epoch  44 Batch   50/68 - Train Accuracy: 0.9951, Validation Accuracy: 0.9847, Loss: 0.0067\n",
      "Epoch  44 Batch   60/68 - Train Accuracy: 0.9939, Validation Accuracy: 0.9815, Loss: 0.0055\n",
      "Epoch  45 Batch   10/68 - Train Accuracy: 0.9909, Validation Accuracy: 0.9860, Loss: 0.0068\n",
      "Epoch  45 Batch   20/68 - Train Accuracy: 0.9947, Validation Accuracy: 0.9856, Loss: 0.0067\n",
      "Epoch  45 Batch   30/68 - Train Accuracy: 0.9938, Validation Accuracy: 0.9869, Loss: 0.0076\n",
      "Epoch  45 Batch   40/68 - Train Accuracy: 0.9910, Validation Accuracy: 0.9861, Loss: 0.0073\n",
      "Epoch  45 Batch   50/68 - Train Accuracy: 0.9931, Validation Accuracy: 0.9832, Loss: 0.0069\n",
      "Epoch  45 Batch   60/68 - Train Accuracy: 0.9938, Validation Accuracy: 0.9852, Loss: 0.0061\n",
      "Epoch  46 Batch   10/68 - Train Accuracy: 0.9928, Validation Accuracy: 0.9842, Loss: 0.0063\n",
      "Epoch  46 Batch   20/68 - Train Accuracy: 0.9944, Validation Accuracy: 0.9833, Loss: 0.0073\n",
      "Epoch  46 Batch   30/68 - Train Accuracy: 0.9931, Validation Accuracy: 0.9834, Loss: 0.0075\n",
      "Epoch  46 Batch   40/68 - Train Accuracy: 0.9944, Validation Accuracy: 0.9853, Loss: 0.0068\n",
      "Epoch  46 Batch   50/68 - Train Accuracy: 0.9931, Validation Accuracy: 0.9861, Loss: 0.0074\n",
      "Epoch  46 Batch   60/68 - Train Accuracy: 0.9940, Validation Accuracy: 0.9864, Loss: 0.0067\n",
      "Epoch  47 Batch   10/68 - Train Accuracy: 0.9938, Validation Accuracy: 0.9880, Loss: 0.0057\n",
      "Epoch  47 Batch   20/68 - Train Accuracy: 0.9957, Validation Accuracy: 0.9846, Loss: 0.0071\n",
      "Epoch  47 Batch   30/68 - Train Accuracy: 0.9914, Validation Accuracy: 0.9861, Loss: 0.0065\n",
      "Epoch  47 Batch   40/68 - Train Accuracy: 0.9944, Validation Accuracy: 0.9839, Loss: 0.0060\n",
      "Epoch  47 Batch   50/68 - Train Accuracy: 0.9940, Validation Accuracy: 0.9858, Loss: 0.0059\n",
      "Epoch  47 Batch   60/68 - Train Accuracy: 0.9955, Validation Accuracy: 0.9859, Loss: 0.0056\n",
      "Epoch  48 Batch   10/68 - Train Accuracy: 0.9932, Validation Accuracy: 0.9822, Loss: 0.0077\n",
      "Epoch  48 Batch   20/68 - Train Accuracy: 0.9939, Validation Accuracy: 0.9843, Loss: 0.0069\n",
      "Epoch  48 Batch   30/68 - Train Accuracy: 0.9928, Validation Accuracy: 0.9814, Loss: 0.0059\n",
      "Epoch  48 Batch   40/68 - Train Accuracy: 0.9937, Validation Accuracy: 0.9840, Loss: 0.0064\n",
      "Epoch  48 Batch   50/68 - Train Accuracy: 0.9955, Validation Accuracy: 0.9854, Loss: 0.0055\n",
      "Epoch  48 Batch   60/68 - Train Accuracy: 0.9939, Validation Accuracy: 0.9843, Loss: 0.0059\n",
      "Epoch  49 Batch   10/68 - Train Accuracy: 0.9945, Validation Accuracy: 0.9881, Loss: 0.0052\n",
      "Epoch  49 Batch   20/68 - Train Accuracy: 0.9956, Validation Accuracy: 0.9845, Loss: 0.0071\n",
      "Epoch  49 Batch   30/68 - Train Accuracy: 0.9906, Validation Accuracy: 0.9861, Loss: 0.0076\n",
      "Epoch  49 Batch   40/68 - Train Accuracy: 0.9938, Validation Accuracy: 0.9830, Loss: 0.0059\n",
      "Epoch  49 Batch   50/68 - Train Accuracy: 0.9932, Validation Accuracy: 0.9837, Loss: 0.0063\n",
      "Epoch  49 Batch   60/68 - Train Accuracy: 0.9947, Validation Accuracy: 0.9851, Loss: 0.0060\n",
      "Model Trained and Saved\n"
     ]
    }
   ],
   "source": [
    "\"\"\"\n",
    "DON'T MODIFY ANYTHING IN THIS CELL\n",
    "\"\"\"\n",
    "def get_accuracy(target, logits):\n",
    "    \"\"\"\n",
    "    Calculate accuracy\n",
    "    \"\"\"\n",
    "    max_seq = max(target.shape[1], logits.shape[1])\n",
    "    if max_seq - target.shape[1]:\n",
    "        target = np.pad(\n",
    "            target,\n",
    "            [(0,0),(0,max_seq - target.shape[1])],\n",
    "            'constant')\n",
    "    if max_seq - logits.shape[1]:\n",
    "        logits = np.pad(\n",
    "            logits,\n",
    "            [(0,0),(0,max_seq - logits.shape[1])],\n",
    "            'constant')\n",
    "\n",
    "    return np.mean(np.equal(target, logits))\n",
    "\n",
    "# Split data to training and validation sets\n",
    "train_source = source_int_text[batch_size:]\n",
    "train_target = target_int_text[batch_size:]\n",
    "valid_source = source_int_text[:batch_size]\n",
    "valid_target = target_int_text[:batch_size]\n",
    "(valid_sources_batch, valid_targets_batch, valid_sources_lengths, valid_targets_lengths ) = next(get_batches(valid_source,\n",
    "                                                                                                             valid_target,\n",
    "                                                                                                             batch_size,\n",
    "                                                                                                             source_vocab_to_int['<PAD>'],\n",
    "                                                                                                             target_vocab_to_int['<PAD>']))                                                                                                  \n",
    "with tf.Session(graph=train_graph) as sess:\n",
    "    sess.run(tf.global_variables_initializer())\n",
    "\n",
    "    for epoch_i in range(epochs):\n",
    "        for batch_i, (source_batch, target_batch, sources_lengths, targets_lengths) in enumerate(\n",
    "                get_batches(train_source, train_target, batch_size,\n",
    "                            source_vocab_to_int['<PAD>'],\n",
    "                            target_vocab_to_int['<PAD>'])):\n",
    "\n",
    "            _, loss = sess.run(\n",
    "                [train_op, cost],\n",
    "                {input_data: source_batch,\n",
    "                 targets: target_batch,\n",
    "                 lr: learning_rate,\n",
    "                 target_sequence_length: targets_lengths,\n",
    "                 source_sequence_length: sources_lengths,\n",
    "                 keep_prob: keep_probability})\n",
    "\n",
    "\n",
    "            if batch_i % display_step == 0 and batch_i > 0:\n",
    "\n",
    "\n",
    "                batch_train_logits = sess.run(\n",
    "                    inference_logits,\n",
    "                    {input_data: source_batch,\n",
    "                     source_sequence_length: sources_lengths,\n",
    "                     target_sequence_length: targets_lengths,\n",
    "                     keep_prob: 1.0})\n",
    "\n",
    "\n",
    "                batch_valid_logits = sess.run(\n",
    "                    inference_logits,\n",
    "                    {input_data: valid_sources_batch,\n",
    "                     source_sequence_length: valid_sources_lengths,\n",
    "                     target_sequence_length: valid_targets_lengths,\n",
    "                     keep_prob: 1.0})\n",
    "\n",
    "                train_acc = get_accuracy(target_batch, batch_train_logits)\n",
    "\n",
    "                valid_acc = get_accuracy(valid_targets_batch, batch_valid_logits)\n",
    "\n",
    "                print('Epoch {:>3} Batch {:>4}/{} - Train Accuracy: {:>6.4f}, Validation Accuracy: {:>6.4f}, Loss: {:>6.4f}'\n",
    "                      .format(epoch_i, batch_i, len(source_int_text) // batch_size, train_acc, valid_acc, loss))\n",
    "\n",
    "    # Save Model\n",
    "    saver = tf.train.Saver()\n",
    "    saver.save(sess, save_path)\n",
    "    print('Model Trained and Saved')"
   ]
  },
  {
   "cell_type": "code",
   "execution_count": 100,
   "metadata": {
    "collapsed": false
   },
   "outputs": [],
   "source": [
    " # Save Model\n",
    "saver = tf.train.Saver()\n",
    "saver.save(sess, save_path)\n",
    "print('Model Trained and Saved')"
   ]
  },
  {
   "cell_type": "markdown",
   "metadata": {},
   "source": [
    "### Save Parameters\n",
    "Save the `batch_size` and `save_path` parameters for inference."
   ]
  },
  {
   "cell_type": "code",
   "execution_count": 101,
   "metadata": {
    "collapsed": true
   },
   "outputs": [],
   "source": [
    "\"\"\"\n",
    "DON'T MODIFY ANYTHING IN THIS CELL\n",
    "\"\"\"\n",
    "# Save parameters for checkpoint\n",
    "helper.save_params(save_path)"
   ]
  },
  {
   "cell_type": "markdown",
   "metadata": {},
   "source": [
    "# Checkpoint"
   ]
  },
  {
   "cell_type": "code",
   "execution_count": 102,
   "metadata": {
    "collapsed": true
   },
   "outputs": [],
   "source": [
    "\"\"\"\n",
    "DON'T MODIFY ANYTHING IN THIS CELL\n",
    "\"\"\"\n",
    "import tensorflow as tf\n",
    "import numpy as np\n",
    "import helper\n",
    "import problem_unittests as tests\n",
    "\n",
    "_, (source_vocab_to_int, target_vocab_to_int), (source_int_to_vocab, target_int_to_vocab) = helper.load_preprocess()\n",
    "load_path = helper.load_params()"
   ]
  },
  {
   "cell_type": "markdown",
   "metadata": {},
   "source": [
    "## Sentence to Sequence\n",
    "To feed a sentence into the model for translation, you first need to preprocess it.  Implement the function `sentence_to_seq()` to preprocess new sentences.\n",
    "\n",
    "- Convert the sentence to lowercase\n",
    "- Convert words into ids using `vocab_to_int`\n",
    " - Convert words not in the vocabulary, to the `<UNK>` word id."
   ]
  },
  {
   "cell_type": "code",
   "execution_count": 103,
   "metadata": {
    "collapsed": false
   },
   "outputs": [
    {
     "name": "stdout",
     "output_type": "stream",
     "text": [
      "Tests Passed\n"
     ]
    }
   ],
   "source": [
    "def sentence_to_seq(sentence, vocab_to_int):\n",
    "    \"\"\"\n",
    "    Convert a sentence to a sequence of ids\n",
    "    :param sentence: String\n",
    "    :param vocab_to_int: Dictionary to go from the words to an id\n",
    "    :return: List of word ids\n",
    "    \"\"\"\n",
    "    \n",
    "    return [vocab_to_int.get(w,vocab_to_int[\"<UNK>\"]) for w in sentence.lower().split(\" \")]\n",
    "\n",
    "\n",
    "\"\"\"\n",
    "DON'T MODIFY ANYTHING IN THIS CELL THAT IS BELOW THIS LINE\n",
    "\"\"\"\n",
    "tests.test_sentence_to_seq(sentence_to_seq)"
   ]
  },
  {
   "cell_type": "markdown",
   "metadata": {},
   "source": [
    "## Translate\n",
    "This will translate `translate_sentence` from English to French."
   ]
  },
  {
   "cell_type": "code",
   "execution_count": 104,
   "metadata": {
    "collapsed": false
   },
   "outputs": [
    {
     "name": "stdout",
     "output_type": "stream",
     "text": [
      "INFO:tensorflow:Restoring parameters from checkpoints/dev\n",
      "Input\n",
      "  Word Ids:      [158, 80, 177, 10, 104, 139, 212]\n",
      "  English Words: ['he', 'saw', 'a', 'old', 'yellow', 'truck', '.']\n",
      "\n",
      "Prediction\n",
      "  Word Ids:      [117, 345, 148, 155, 231, 312, 352, 1]\n",
      "  French Words: il a vu un petit camion . <EOS>\n"
     ]
    }
   ],
   "source": [
    "translate_sentence = 'he saw a old yellow truck .'\n",
    "\n",
    "\n",
    "\"\"\"\n",
    "DON'T MODIFY ANYTHING IN THIS CELL\n",
    "\"\"\"\n",
    "translate_sentence = sentence_to_seq(translate_sentence, source_vocab_to_int)\n",
    "\n",
    "loaded_graph = tf.Graph()\n",
    "with tf.Session(graph=loaded_graph) as sess:\n",
    "    # Load saved model\n",
    "    loader = tf.train.import_meta_graph(load_path + '.meta')\n",
    "    loader.restore(sess, load_path)\n",
    "\n",
    "    input_data = loaded_graph.get_tensor_by_name('input:0')\n",
    "    logits = loaded_graph.get_tensor_by_name('predictions:0')\n",
    "    target_sequence_length = loaded_graph.get_tensor_by_name('target_sequence_length:0')\n",
    "    source_sequence_length = loaded_graph.get_tensor_by_name('source_sequence_length:0')\n",
    "    keep_prob = loaded_graph.get_tensor_by_name('keep_prob:0')\n",
    "\n",
    "    translate_logits = sess.run(logits, {input_data: [translate_sentence]*batch_size,\n",
    "                                         target_sequence_length: [len(translate_sentence)*2]*batch_size,\n",
    "                                         source_sequence_length: [len(translate_sentence)]*batch_size,\n",
    "                                         keep_prob: 1.0})[0]\n",
    "\n",
    "print('Input')\n",
    "print('  Word Ids:      {}'.format([i for i in translate_sentence]))\n",
    "print('  English Words: {}'.format([source_int_to_vocab[i] for i in translate_sentence]))\n",
    "\n",
    "print('\\nPrediction')\n",
    "print('  Word Ids:      {}'.format([i for i in translate_logits]))\n",
    "print('  French Words: {}'.format(\" \".join([target_int_to_vocab[i] for i in translate_logits])))\n"
   ]
  },
  {
   "cell_type": "markdown",
   "metadata": {},
   "source": [
    "## Imperfect Translation\n",
    "You might notice that some sentences translate better than others.  Since the dataset you're using only has a vocabulary of 227 English words of the thousands that you use, you're only going to see good results using these words.  For this project, you don't need a perfect translation. However, if you want to create a better translation model, you'll need better data.\n",
    "\n",
    "You can train on the [WMT10 French-English corpus](http://www.statmt.org/wmt10/training-giga-fren.tar).  This dataset has more vocabulary and richer in topics discussed.  However, this will take you days to train, so make sure you've a GPU and the neural network is performing well on dataset we provided.  Just make sure you play with the WMT10 corpus after you've submitted this project.\n",
    "## Submitting This Project\n",
    "When submitting this project, make sure to run all the cells before saving the notebook. Save the notebook file as \"dlnd_language_translation.ipynb\" and save it as a HTML file under \"File\" -> \"Download as\". Include the \"helper.py\" and \"problem_unittests.py\" files in your submission."
   ]
  }
 ],
 "metadata": {
  "anaconda-cloud": {},
  "kernelspec": {
   "display_name": "Python 3",
   "language": "python",
   "name": "python3"
  },
  "language_info": {
   "codemirror_mode": {
    "name": "ipython",
    "version": 3
   },
   "file_extension": ".py",
   "mimetype": "text/x-python",
   "name": "python",
   "nbconvert_exporter": "python",
   "pygments_lexer": "ipython3",
   "version": "3.5.2"
  }
 },
 "nbformat": 4,
 "nbformat_minor": 1
}
